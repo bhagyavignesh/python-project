{
 "cells": [
  {
   "cell_type": "code",
   "execution_count": 1,
   "id": "4e330330-76e6-44ac-ac0f-8d4d168b2169",
   "metadata": {},
   "outputs": [],
   "source": [
    "import pandas as pd\n",
    "import numpy as np\n",
    "import matplotlib.pyplot as plt\n",
    "from sklearn.preprocessing import LabelEncoder\n",
    "le=LabelEncoder() \n",
    "import seaborn as sns\n",
    "import warnings\n",
    "warnings.filterwarnings('ignore')"
   ]
  },
  {
   "cell_type": "code",
   "execution_count": 2,
   "id": "b0af21d0-9004-4e2f-855d-2206e1a7fe2b",
   "metadata": {},
   "outputs": [],
   "source": [
    "df=pd.read_csv('Training_Data_Set.csv')"
   ]
  },
  {
   "cell_type": "code",
   "execution_count": 3,
   "id": "f05fa9c4-204d-45ee-8fb0-8224b58bcd62",
   "metadata": {},
   "outputs": [
    {
     "data": {
      "text/html": [
       "<div>\n",
       "<style scoped>\n",
       "    .dataframe tbody tr th:only-of-type {\n",
       "        vertical-align: middle;\n",
       "    }\n",
       "\n",
       "    .dataframe tbody tr th {\n",
       "        vertical-align: top;\n",
       "    }\n",
       "\n",
       "    .dataframe thead th {\n",
       "        text-align: right;\n",
       "    }\n",
       "</style>\n",
       "<table border=\"1\" class=\"dataframe\">\n",
       "  <thead>\n",
       "    <tr style=\"text-align: right;\">\n",
       "      <th></th>\n",
       "      <th>Id</th>\n",
       "      <th>Maker</th>\n",
       "      <th>model</th>\n",
       "      <th>Location</th>\n",
       "      <th>Distance</th>\n",
       "      <th>Owner Type</th>\n",
       "      <th>manufacture_year</th>\n",
       "      <th>Age of car</th>\n",
       "      <th>engine_displacement</th>\n",
       "      <th>engine_power</th>\n",
       "      <th>body_type</th>\n",
       "      <th>Vroom Audit Rating</th>\n",
       "      <th>transmission</th>\n",
       "      <th>door_count</th>\n",
       "      <th>seat_count</th>\n",
       "      <th>fuel_type</th>\n",
       "      <th>Price</th>\n",
       "    </tr>\n",
       "  </thead>\n",
       "  <tbody>\n",
       "    <tr>\n",
       "      <th>0</th>\n",
       "      <td>25001</td>\n",
       "      <td>skoda</td>\n",
       "      <td>octavia</td>\n",
       "      <td>Ahmedabad</td>\n",
       "      <td>NaN</td>\n",
       "      <td>Second</td>\n",
       "      <td>1964</td>\n",
       "      <td>55</td>\n",
       "      <td>1964</td>\n",
       "      <td>147.0</td>\n",
       "      <td>compact</td>\n",
       "      <td>8</td>\n",
       "      <td>man</td>\n",
       "      <td>NaN</td>\n",
       "      <td>NaN</td>\n",
       "      <td>petrol</td>\n",
       "      <td>543764.25</td>\n",
       "    </tr>\n",
       "    <tr>\n",
       "      <th>1</th>\n",
       "      <td>25002</td>\n",
       "      <td>fiat</td>\n",
       "      <td>panda</td>\n",
       "      <td>Ahmedabad</td>\n",
       "      <td>27750.0</td>\n",
       "      <td>Third</td>\n",
       "      <td>2012</td>\n",
       "      <td>7</td>\n",
       "      <td>1242</td>\n",
       "      <td>51.0</td>\n",
       "      <td>NaN</td>\n",
       "      <td>6</td>\n",
       "      <td>man</td>\n",
       "      <td>4.0</td>\n",
       "      <td>4.0</td>\n",
       "      <td>petrol</td>\n",
       "      <td>401819.25</td>\n",
       "    </tr>\n",
       "    <tr>\n",
       "      <th>2</th>\n",
       "      <td>25003</td>\n",
       "      <td>bmw</td>\n",
       "      <td>x1</td>\n",
       "      <td>Hyderabad</td>\n",
       "      <td>46000.0</td>\n",
       "      <td>Third</td>\n",
       "      <td>2014</td>\n",
       "      <td>5</td>\n",
       "      <td>1995</td>\n",
       "      <td>105.0</td>\n",
       "      <td>NaN</td>\n",
       "      <td>7</td>\n",
       "      <td>auto</td>\n",
       "      <td>4.0</td>\n",
       "      <td>5.0</td>\n",
       "      <td>diesel</td>\n",
       "      <td>2392855.50</td>\n",
       "    </tr>\n",
       "    <tr>\n",
       "      <th>3</th>\n",
       "      <td>25004</td>\n",
       "      <td>nissan</td>\n",
       "      <td>juke</td>\n",
       "      <td>Mumbai</td>\n",
       "      <td>43949.0</td>\n",
       "      <td>Third</td>\n",
       "      <td>2011</td>\n",
       "      <td>8</td>\n",
       "      <td>1618</td>\n",
       "      <td>140.0</td>\n",
       "      <td>NaN</td>\n",
       "      <td>7</td>\n",
       "      <td>man</td>\n",
       "      <td>4.0</td>\n",
       "      <td>5.0</td>\n",
       "      <td>petrol</td>\n",
       "      <td>958606.50</td>\n",
       "    </tr>\n",
       "    <tr>\n",
       "      <th>4</th>\n",
       "      <td>25005</td>\n",
       "      <td>bmw</td>\n",
       "      <td>x5</td>\n",
       "      <td>Jaipur</td>\n",
       "      <td>59524.0</td>\n",
       "      <td>Fourth &amp; Above</td>\n",
       "      <td>2012</td>\n",
       "      <td>7</td>\n",
       "      <td>2993</td>\n",
       "      <td>180.0</td>\n",
       "      <td>NaN</td>\n",
       "      <td>7</td>\n",
       "      <td>auto</td>\n",
       "      <td>4.0</td>\n",
       "      <td>5.0</td>\n",
       "      <td>diesel</td>\n",
       "      <td>3085561.50</td>\n",
       "    </tr>\n",
       "    <tr>\n",
       "      <th>...</th>\n",
       "      <td>...</td>\n",
       "      <td>...</td>\n",
       "      <td>...</td>\n",
       "      <td>...</td>\n",
       "      <td>...</td>\n",
       "      <td>...</td>\n",
       "      <td>...</td>\n",
       "      <td>...</td>\n",
       "      <td>...</td>\n",
       "      <td>...</td>\n",
       "      <td>...</td>\n",
       "      <td>...</td>\n",
       "      <td>...</td>\n",
       "      <td>...</td>\n",
       "      <td>...</td>\n",
       "      <td>...</td>\n",
       "      <td>...</td>\n",
       "    </tr>\n",
       "    <tr>\n",
       "      <th>53510</th>\n",
       "      <td>78511</td>\n",
       "      <td>skoda</td>\n",
       "      <td>octavia</td>\n",
       "      <td>Delhi</td>\n",
       "      <td>29334.0</td>\n",
       "      <td>Fourth &amp; Above</td>\n",
       "      <td>2014</td>\n",
       "      <td>5</td>\n",
       "      <td>1598</td>\n",
       "      <td>77.0</td>\n",
       "      <td>NaN</td>\n",
       "      <td>4</td>\n",
       "      <td>man</td>\n",
       "      <td>4.0</td>\n",
       "      <td>5.0</td>\n",
       "      <td>diesel</td>\n",
       "      <td>1342996.50</td>\n",
       "    </tr>\n",
       "    <tr>\n",
       "      <th>53511</th>\n",
       "      <td>78512</td>\n",
       "      <td>skoda</td>\n",
       "      <td>octavia</td>\n",
       "      <td>Bangalore</td>\n",
       "      <td>223631.0</td>\n",
       "      <td>Fourth &amp; Above</td>\n",
       "      <td>2009</td>\n",
       "      <td>10</td>\n",
       "      <td>1900</td>\n",
       "      <td>77.0</td>\n",
       "      <td>NaN</td>\n",
       "      <td>8</td>\n",
       "      <td>man</td>\n",
       "      <td>5.0</td>\n",
       "      <td>5.0</td>\n",
       "      <td>diesel</td>\n",
       "      <td>510732.75</td>\n",
       "    </tr>\n",
       "    <tr>\n",
       "      <th>53512</th>\n",
       "      <td>78513</td>\n",
       "      <td>bmw</td>\n",
       "      <td>x1</td>\n",
       "      <td>Pune</td>\n",
       "      <td>25500.0</td>\n",
       "      <td>Third</td>\n",
       "      <td>2015</td>\n",
       "      <td>4</td>\n",
       "      <td>1995</td>\n",
       "      <td>105.0</td>\n",
       "      <td>NaN</td>\n",
       "      <td>4</td>\n",
       "      <td>auto</td>\n",
       "      <td>4.0</td>\n",
       "      <td>5.0</td>\n",
       "      <td>diesel</td>\n",
       "      <td>2008123.50</td>\n",
       "    </tr>\n",
       "    <tr>\n",
       "      <th>53513</th>\n",
       "      <td>78514</td>\n",
       "      <td>toyota</td>\n",
       "      <td>avensis</td>\n",
       "      <td>Jaipur</td>\n",
       "      <td>1195500.0</td>\n",
       "      <td>Third</td>\n",
       "      <td>2011</td>\n",
       "      <td>8</td>\n",
       "      <td>11950</td>\n",
       "      <td>93.0</td>\n",
       "      <td>compact</td>\n",
       "      <td>5</td>\n",
       "      <td>man</td>\n",
       "      <td>NaN</td>\n",
       "      <td>NaN</td>\n",
       "      <td>diesel</td>\n",
       "      <td>874352.25</td>\n",
       "    </tr>\n",
       "    <tr>\n",
       "      <th>53514</th>\n",
       "      <td>78515</td>\n",
       "      <td>bmw</td>\n",
       "      <td>x5</td>\n",
       "      <td>Kochi</td>\n",
       "      <td>142000.0</td>\n",
       "      <td>First</td>\n",
       "      <td>2008</td>\n",
       "      <td>11</td>\n",
       "      <td>2993</td>\n",
       "      <td>173.0</td>\n",
       "      <td>NaN</td>\n",
       "      <td>4</td>\n",
       "      <td>auto</td>\n",
       "      <td>5.0</td>\n",
       "      <td>5.0</td>\n",
       "      <td>diesel</td>\n",
       "      <td>1576610.25</td>\n",
       "    </tr>\n",
       "  </tbody>\n",
       "</table>\n",
       "<p>53515 rows × 17 columns</p>\n",
       "</div>"
      ],
      "text/plain": [
       "          Id   Maker    model   Location  Distance       Owner Type  \\\n",
       "0      25001   skoda  octavia  Ahmedabad        NaN          Second   \n",
       "1      25002    fiat    panda  Ahmedabad    27750.0           Third   \n",
       "2      25003     bmw       x1  Hyderabad    46000.0           Third   \n",
       "3      25004  nissan     juke     Mumbai    43949.0           Third   \n",
       "4      25005     bmw       x5     Jaipur    59524.0  Fourth & Above   \n",
       "...      ...     ...      ...        ...        ...             ...   \n",
       "53510  78511   skoda  octavia      Delhi    29334.0  Fourth & Above   \n",
       "53511  78512   skoda  octavia  Bangalore   223631.0  Fourth & Above   \n",
       "53512  78513     bmw       x1       Pune    25500.0           Third   \n",
       "53513  78514  toyota  avensis     Jaipur  1195500.0           Third   \n",
       "53514  78515     bmw       x5      Kochi   142000.0           First   \n",
       "\n",
       "       manufacture_year  Age of car  engine_displacement  engine_power  \\\n",
       "0                  1964          55                 1964         147.0   \n",
       "1                  2012           7                 1242          51.0   \n",
       "2                  2014           5                 1995         105.0   \n",
       "3                  2011           8                 1618         140.0   \n",
       "4                  2012           7                 2993         180.0   \n",
       "...                 ...         ...                  ...           ...   \n",
       "53510              2014           5                 1598          77.0   \n",
       "53511              2009          10                 1900          77.0   \n",
       "53512              2015           4                 1995         105.0   \n",
       "53513              2011           8                11950          93.0   \n",
       "53514              2008          11                 2993         173.0   \n",
       "\n",
       "      body_type  Vroom Audit Rating transmission  door_count  seat_count  \\\n",
       "0       compact                   8          man         NaN         NaN   \n",
       "1           NaN                   6          man         4.0         4.0   \n",
       "2           NaN                   7         auto         4.0         5.0   \n",
       "3           NaN                   7          man         4.0         5.0   \n",
       "4           NaN                   7         auto         4.0         5.0   \n",
       "...         ...                 ...          ...         ...         ...   \n",
       "53510       NaN                   4          man         4.0         5.0   \n",
       "53511       NaN                   8          man         5.0         5.0   \n",
       "53512       NaN                   4         auto         4.0         5.0   \n",
       "53513   compact                   5          man         NaN         NaN   \n",
       "53514       NaN                   4         auto         5.0         5.0   \n",
       "\n",
       "      fuel_type       Price  \n",
       "0        petrol   543764.25  \n",
       "1        petrol   401819.25  \n",
       "2        diesel  2392855.50  \n",
       "3        petrol   958606.50  \n",
       "4        diesel  3085561.50  \n",
       "...         ...         ...  \n",
       "53510    diesel  1342996.50  \n",
       "53511    diesel   510732.75  \n",
       "53512    diesel  2008123.50  \n",
       "53513    diesel   874352.25  \n",
       "53514    diesel  1576610.25  \n",
       "\n",
       "[53515 rows x 17 columns]"
      ]
     },
     "execution_count": 3,
     "metadata": {},
     "output_type": "execute_result"
    }
   ],
   "source": [
    "df"
   ]
  },
  {
   "cell_type": "code",
   "execution_count": 4,
   "id": "b97eea79-b418-48bd-9bb4-35168b2f6632",
   "metadata": {},
   "outputs": [
    {
     "data": {
      "text/plain": [
       "Id                         0\n",
       "Maker                      0\n",
       "model                      0\n",
       "Location                   0\n",
       "Distance                1211\n",
       "Owner Type                 0\n",
       "manufacture_year           0\n",
       "Age of car                 0\n",
       "engine_displacement        0\n",
       "engine_power            1439\n",
       "body_type              49379\n",
       "Vroom Audit Rating         0\n",
       "transmission               0\n",
       "door_count              7534\n",
       "seat_count              8511\n",
       "fuel_type                  0\n",
       "Price                      0\n",
       "dtype: int64"
      ]
     },
     "execution_count": 4,
     "metadata": {},
     "output_type": "execute_result"
    }
   ],
   "source": [
    "df.isnull().sum()"
   ]
  },
  {
   "cell_type": "code",
   "execution_count": 5,
   "id": "c3f0e370-e89c-4b7a-a32d-ec1a47879ace",
   "metadata": {},
   "outputs": [
    {
     "data": {
      "text/plain": [
       "(53515, 17)"
      ]
     },
     "execution_count": 5,
     "metadata": {},
     "output_type": "execute_result"
    }
   ],
   "source": [
    "df.shape"
   ]
  },
  {
   "cell_type": "code",
   "execution_count": 6,
   "id": "a0a7e598-47c6-45b9-a47a-232fae9b6b63",
   "metadata": {},
   "outputs": [
    {
     "data": {
      "text/plain": [
       "np.int64(0)"
      ]
     },
     "execution_count": 6,
     "metadata": {},
     "output_type": "execute_result"
    }
   ],
   "source": [
    "df.duplicated().sum()"
   ]
  },
  {
   "cell_type": "code",
   "execution_count": 7,
   "id": "d07085f2-ec17-4075-827c-096a763a6c25",
   "metadata": {},
   "outputs": [],
   "source": [
    "df['Distance '].fillna(df['Distance '].median(),inplace=True)\n",
    "df['engine_power'].fillna(df['engine_power'].median(),inplace=True)\n",
    "df['door_count'].fillna(df['door_count'].median(),inplace=True)\n",
    "df['seat_count'].fillna(df['seat_count'].median(),inplace=True)"
   ]
  },
  {
   "cell_type": "code",
   "execution_count": 8,
   "id": "b9361e6e-105a-4cd2-a45f-cf4835e7c331",
   "metadata": {},
   "outputs": [],
   "source": [
    "df.drop(columns='body_type',inplace=True)"
   ]
  },
  {
   "cell_type": "code",
   "execution_count": 9,
   "id": "435f99a6-2a57-490a-af38-b14321c2f450",
   "metadata": {},
   "outputs": [
    {
     "data": {
      "text/plain": [
       "Id                     0\n",
       "Maker                  0\n",
       "model                  0\n",
       "Location               0\n",
       "Distance               0\n",
       "Owner Type             0\n",
       "manufacture_year       0\n",
       "Age of car             0\n",
       "engine_displacement    0\n",
       "engine_power           0\n",
       "Vroom Audit Rating     0\n",
       "transmission           0\n",
       "door_count             0\n",
       "seat_count             0\n",
       "fuel_type              0\n",
       "Price                  0\n",
       "dtype: int64"
      ]
     },
     "execution_count": 9,
     "metadata": {},
     "output_type": "execute_result"
    }
   ],
   "source": [
    "df.isnull().sum()"
   ]
  },
  {
   "cell_type": "code",
   "execution_count": 10,
   "id": "046a6cd0-2b93-4b9f-a587-a806953e2e99",
   "metadata": {},
   "outputs": [
    {
     "data": {
      "text/plain": [
       "Id                       int64\n",
       "Maker                   object\n",
       "model                   object\n",
       "Location                object\n",
       "Distance               float64\n",
       "Owner Type              object\n",
       "manufacture_year         int64\n",
       "Age of car               int64\n",
       "engine_displacement      int64\n",
       "engine_power           float64\n",
       "Vroom Audit Rating       int64\n",
       "transmission            object\n",
       "door_count             float64\n",
       "seat_count             float64\n",
       "fuel_type               object\n",
       "Price                  float64\n",
       "dtype: object"
      ]
     },
     "execution_count": 10,
     "metadata": {},
     "output_type": "execute_result"
    }
   ],
   "source": [
    "df.dtypes"
   ]
  },
  {
   "cell_type": "code",
   "execution_count": 11,
   "id": "37e23e9d-e7f4-439c-b8b3-76bcb8062e7c",
   "metadata": {},
   "outputs": [],
   "source": [
    "from sklearn.preprocessing import LabelEncoder\n",
    "le=LabelEncoder()"
   ]
  },
  {
   "cell_type": "code",
   "execution_count": 12,
   "id": "998c0bf2-25d8-4276-ba6d-725e680b3a9a",
   "metadata": {},
   "outputs": [],
   "source": [
    "df['Maker']=le.fit_transform(df['Maker'])\n",
    "df['model']=le.fit_transform(df['model'])\n",
    "df['Location']=le.fit_transform(df['Location'])\n",
    "df['Distance ']=le.fit_transform(df['Distance '])\n",
    "df['Owner Type']=le.fit_transform(df['Owner Type'])\n",
    "df['engine_power']=le.fit_transform(df['engine_power'])\n",
    "df['transmission']=le.fit_transform(df['transmission'])\n",
    "df['door_count']=le.fit_transform(df['door_count'])\n",
    "df['seat_count']=le.fit_transform(df['seat_count'])\n",
    "df['fuel_type']=le.fit_transform(df['fuel_type'])\n",
    "df['Price']=le.fit_transform(df['Price'])"
   ]
  },
  {
   "cell_type": "code",
   "execution_count": 13,
   "id": "0abe7e1c-a881-48eb-9467-83d9318f5923",
   "metadata": {},
   "outputs": [
    {
     "data": {
      "text/plain": [
       "Id                     int64\n",
       "Maker                  int64\n",
       "model                  int64\n",
       "Location               int64\n",
       "Distance               int64\n",
       "Owner Type             int64\n",
       "manufacture_year       int64\n",
       "Age of car             int64\n",
       "engine_displacement    int64\n",
       "engine_power           int64\n",
       "Vroom Audit Rating     int64\n",
       "transmission           int64\n",
       "door_count             int64\n",
       "seat_count             int64\n",
       "fuel_type              int64\n",
       "Price                  int64\n",
       "dtype: object"
      ]
     },
     "execution_count": 13,
     "metadata": {},
     "output_type": "execute_result"
    }
   ],
   "source": [
    "df.dtypes"
   ]
  },
  {
   "cell_type": "code",
   "execution_count": 14,
   "id": "c151c68d-df2f-4b68-8ca8-0c23222d8a9c",
   "metadata": {},
   "outputs": [],
   "source": [
    "import matplotlib.pyplot as plt"
   ]
  },
  {
   "cell_type": "code",
   "execution_count": 15,
   "id": "4a828ef0-3f3e-4e4b-b90e-c7b776aa39ab",
   "metadata": {},
   "outputs": [
    {
     "data": {
      "image/png": "[encoded data removed]",
      "text/plain": [
       "<Figure size 640x480 with 1 Axes>"
      ]
     },
     "metadata": {},
     "output_type": "display_data"
    }
   ],
   "source": [
    "df.boxplot()\n",
    "plt.show()"
   ]
  },
  {
   "cell_type": "code",
   "execution_count": 16,
   "id": "c62899fd-bd0c-49a5-9e51-2f7a4e13924a",
   "metadata": {},
   "outputs": [
    {
     "data": {
      "text/plain": [
       "Index(['Id', 'Maker', 'model', 'Location', 'Distance ', 'Owner Type',\n",
       "       'manufacture_year', 'Age of car', 'engine_displacement', 'engine_power',\n",
       "       'Vroom Audit Rating', 'transmission', 'door_count', 'seat_count',\n",
       "       'fuel_type', 'Price'],\n",
       "      dtype='object')"
      ]
     },
     "execution_count": 16,
     "metadata": {},
     "output_type": "execute_result"
    }
   ],
   "source": [
    "df.columns"
   ]
  },
  {
   "cell_type": "code",
   "execution_count": 17,
   "id": "7f26d24a-3e35-4e02-a364-67c6e1e60509",
   "metadata": {},
   "outputs": [
    {
     "data": {
      "image/png": "[encoded data removed]",
      "text/plain": [
       "<Figure size 640x480 with 1 Axes>"
      ]
     },
     "metadata": {},
     "output_type": "display_data"
    }
   ],
   "source": [
    "df[['Id']].boxplot()\n",
    "plt.show()"
   ]
  },
  {
   "cell_type": "code",
   "execution_count": 18,
   "id": "c1086c5a-1e4e-48ea-81db-3805e60293a1",
   "metadata": {},
   "outputs": [
    {
     "data": {
      "image/png": "[encoded data removed]",
      "text/plain": [
       "<Figure size 640x480 with 1 Axes>"
      ]
     },
     "metadata": {},
     "output_type": "display_data"
    }
   ],
   "source": [
    "df[['Maker']].boxplot()\n",
    "plt.show()"
   ]
  },
  {
   "cell_type": "code",
   "execution_count": 19,
   "id": "f64ce145-6c82-4d14-a33f-c0233f9602b6",
   "metadata": {},
   "outputs": [
    {
     "data": {
      "image/png": "[encoded data removed]",
      "text/plain": [
       "<Figure size 640x480 with 1 Axes>"
      ]
     },
     "metadata": {},
     "output_type": "display_data"
    }
   ],
   "source": [
    "df[['model']].boxplot()\n",
    "plt.show()"
   ]
  },
  {
   "cell_type": "code",
   "execution_count": 20,
   "id": "bc5ecf38-591b-45a2-97d4-abdca67efbe8",
   "metadata": {},
   "outputs": [
    {
     "data": {
      "image/png": "[encoded data removed]",
      "text/plain": [
       "<Figure size 640x480 with 1 Axes>"
      ]
     },
     "metadata": {},
     "output_type": "display_data"
    }
   ],
   "source": [
    "df[['Location']].boxplot()\n",
    "plt.show()"
   ]
  },
  {
   "cell_type": "code",
   "execution_count": 21,
   "id": "10dc8539-54bf-4711-96f4-fd1b0512a1ae",
   "metadata": {},
   "outputs": [
    {
     "data": {
      "image/png": "[encoded data removed]",
      "text/plain": [
       "<Figure size 640x480 with 1 Axes>"
      ]
     },
     "metadata": {},
     "output_type": "display_data"
    }
   ],
   "source": [
    "df[['Distance ']].boxplot()\n",
    "plt.show()"
   ]
  },
  {
   "cell_type": "code",
   "execution_count": 22,
   "id": "3b4caa86-b81a-49ec-ae13-6c6e1a07a47b",
   "metadata": {},
   "outputs": [
    {
     "data": {
      "image/png": "[encoded data removed]",
      "text/plain": [
       "<Figure size 640x480 with 1 Axes>"
      ]
     },
     "metadata": {},
     "output_type": "display_data"
    }
   ],
   "source": [
    "df[['Owner Type']].boxplot()\n",
    "plt.show()"
   ]
  },
  {
   "cell_type": "code",
   "execution_count": 23,
   "id": "54847f0c-723c-4e62-a996-733fad97e878",
   "metadata": {},
   "outputs": [
    {
     "data": {
      "image/png": "[encoded data removed]",
      "text/plain": [
       "<Figure size 640x480 with 1 Axes>"
      ]
     },
     "metadata": {},
     "output_type": "display_data"
    }
   ],
   "source": [
    "df[['manufacture_year']].boxplot()\n",
    "plt.show()"
   ]
  },
  {
   "cell_type": "code",
   "execution_count": 24,
   "id": "df243033-a1d5-4f84-a817-18dd672cf267",
   "metadata": {},
   "outputs": [],
   "source": [
    "Q1=df[['manufacture_year']].quantile(0.25)\n",
    "Q1\n",
    "Q3=df[['manufacture_year']].quantile(0.75)\n",
    "Q3\n",
    "IQR=Q3-Q1\n",
    "IQR\n",
    "LL=Q1-1.5*IQR\n",
    "UL=Q3+1.5*IQR\n",
    "df_manufacture_year=(df[['manufacture_year']][(df[['manufacture_year']]>LL)&(df[['manufacture_year']]<UL)])"
   ]
  },
  {
   "cell_type": "code",
   "execution_count": 25,
   "id": "361f4360-32b1-4303-8258-8ba828f4d630",
   "metadata": {},
   "outputs": [
    {
     "data": {
      "image/png": "[encoded data removed]",
      "text/plain": [
       "<Figure size 640x480 with 1 Axes>"
      ]
     },
     "metadata": {},
     "output_type": "display_data"
    }
   ],
   "source": [
    "df_manufacture_year[['manufacture_year']].boxplot()\n",
    "plt.show()"
   ]
  },
  {
   "cell_type": "code",
   "execution_count": 26,
   "id": "3a0ee798-7279-4720-a501-ac451365bae1",
   "metadata": {},
   "outputs": [
    {
     "data": {
      "image/png": "[encoded data removed]",
      "text/plain": [
       "<Figure size 640x480 with 1 Axes>"
      ]
     },
     "metadata": {},
     "output_type": "display_data"
    }
   ],
   "source": [
    "df[['Age of car']].boxplot()\n",
    "plt.show()"
   ]
  },
  {
   "cell_type": "code",
   "execution_count": 27,
   "id": "dfa7c8ab-0b99-4e8e-a932-0dfc3494a978",
   "metadata": {},
   "outputs": [],
   "source": [
    "Q1=df[['Age of car']].quantile(0.25)\n",
    "Q1\n",
    "Q3=df[['Age of car']].quantile(0.75)\n",
    "Q3\n",
    "IQR=Q3-Q1\n",
    "IQR\n",
    "LL=Q1-1.5*IQR\n",
    "UL=Q3+1.5*IQR\n",
    "df_age=(df[['Age of car']][(df[['Age of car']]>LL)&(df[['Age of car']]<UL)])"
   ]
  },
  {
   "cell_type": "code",
   "execution_count": 28,
   "id": "5a7f48a4-a85c-4d7f-9bcb-1a0d5e55755b",
   "metadata": {},
   "outputs": [
    {
     "data": {
      "image/png": "[encoded data removed]",
      "text/plain": [
       "<Figure size 640x480 with 1 Axes>"
      ]
     },
     "metadata": {},
     "output_type": "display_data"
    }
   ],
   "source": [
    "df_age[['Age of car']].boxplot()\n",
    "plt.show()"
   ]
  },
  {
   "cell_type": "code",
   "execution_count": 29,
   "id": "2149cc0b-345e-4d89-a6f0-038c13a2a09d",
   "metadata": {},
   "outputs": [
    {
     "data": {
      "image/png": "[encoded data removed]",
      "text/plain": [
       "<Figure size 640x480 with 1 Axes>"
      ]
     },
     "metadata": {},
     "output_type": "display_data"
    }
   ],
   "source": [
    "df[['engine_displacement']].boxplot()\n",
    "plt.show()"
   ]
  },
  {
   "cell_type": "code",
   "execution_count": 30,
   "id": "22dcf63b-6bed-4076-824a-269c5f9acb18",
   "metadata": {},
   "outputs": [],
   "source": [
    "Q1=df[['engine_displacement']].quantile(0.25)\n",
    "Q1\n",
    "Q3=df[['engine_displacement']].quantile(0.75)\n",
    "Q3\n",
    "IQR=Q3-Q1\n",
    "IQR\n",
    "LL=Q1-1.5*IQR\n",
    "UL=Q3+1.5*IQR\n",
    "df_engine_displacement=(df[['engine_displacement']][(df[['engine_displacement']]>LL)&(df[['engine_displacement']]<UL)])"
   ]
  },
  {
   "cell_type": "code",
   "execution_count": 31,
   "id": "e9e2c1ae-250b-4044-a04d-383750c90194",
   "metadata": {},
   "outputs": [
    {
     "data": {
      "image/png": "[encoded data removed]",
      "text/plain": [
       "<Figure size 640x480 with 1 Axes>"
      ]
     },
     "metadata": {},
     "output_type": "display_data"
    }
   ],
   "source": [
    "df_engine_displacement[['engine_displacement']].boxplot()\n",
    "plt.show()"
   ]
  },
  {
   "cell_type": "code",
   "execution_count": 32,
   "id": "860bb11c-5f35-4f1b-8734-69e0930026af",
   "metadata": {},
   "outputs": [
    {
     "data": {
      "image/png": "[encoded data removed]",
      "text/plain": [
       "<Figure size 640x480 with 1 Axes>"
      ]
     },
     "metadata": {},
     "output_type": "display_data"
    }
   ],
   "source": [
    "df[['engine_power']].boxplot()\n",
    "plt.show()"
   ]
  },
  {
   "cell_type": "code",
   "execution_count": 33,
   "id": "f9d11e66-ed95-4071-9179-d1c2394b0598",
   "metadata": {},
   "outputs": [],
   "source": [
    "Q1=df[['engine_power']].quantile(0.25)\n",
    "Q1\n",
    "Q3=df[['engine_power']].quantile(0.75)\n",
    "Q3\n",
    "IQR=Q3-Q1\n",
    "IQR\n",
    "LL=Q1-1.5*IQR\n",
    "UL=Q3+1.5*IQR\n",
    "df_engine_power=(df[['engine_power']][(df[['engine_power']]>LL)&(df[['engine_power']]<UL)])"
   ]
  },
  {
   "cell_type": "code",
   "execution_count": 34,
   "id": "78be2a91-7c3d-40dc-9eb7-9e3d4d9d2b26",
   "metadata": {},
   "outputs": [
    {
     "data": {
      "image/png": "[encoded data removed]",
      "text/plain": [
       "<Figure size 640x480 with 1 Axes>"
      ]
     },
     "metadata": {},
     "output_type": "display_data"
    }
   ],
   "source": [
    "df_engine_power[['engine_power']].boxplot()\n",
    "plt.show()"
   ]
  },
  {
   "cell_type": "code",
   "execution_count": 35,
   "id": "cc46dfd3-dc72-4317-a72d-39c7d5e43d28",
   "metadata": {},
   "outputs": [
    {
     "data": {
      "image/png": "[encoded data removed]",
      "text/plain": [
       "<Figure size 640x480 with 1 Axes>"
      ]
     },
     "metadata": {},
     "output_type": "display_data"
    }
   ],
   "source": [
    "df[['Vroom Audit Rating']].boxplot()\n",
    "plt.show()"
   ]
  },
  {
   "cell_type": "code",
   "execution_count": 36,
   "id": "607bd3c8-187b-4449-9e8f-43d79fd04f1a",
   "metadata": {},
   "outputs": [
    {
     "data": {
      "image/png": "[encoded data removed]",
      "text/plain": [
       "<Figure size 640x480 with 1 Axes>"
      ]
     },
     "metadata": {},
     "output_type": "display_data"
    }
   ],
   "source": [
    "df[['transmission']].boxplot()\n",
    "plt.show()"
   ]
  },
  {
   "cell_type": "code",
   "execution_count": 37,
   "id": "f6bb1b1c-3394-49c2-8847-e493df7cae06",
   "metadata": {},
   "outputs": [
    {
     "data": {
      "text/plain": [
       "Index(['Id', 'Maker', 'model', 'Location', 'Distance ', 'Owner Type',\n",
       "       'manufacture_year', 'Age of car', 'engine_displacement', 'engine_power',\n",
       "       'Vroom Audit Rating', 'transmission', 'door_count', 'seat_count',\n",
       "       'fuel_type', 'Price'],\n",
       "      dtype='object')"
      ]
     },
     "execution_count": 37,
     "metadata": {},
     "output_type": "execute_result"
    }
   ],
   "source": [
    "df.columns"
   ]
  },
  {
   "cell_type": "code",
   "execution_count": 38,
   "id": "2c3ae82c-25ed-4fc6-9dda-db70035d1064",
   "metadata": {},
   "outputs": [
    {
     "data": {
      "image/png": "[encoded data removed]",
      "text/plain": [
       "<Figure size 640x480 with 1 Axes>"
      ]
     },
     "metadata": {},
     "output_type": "display_data"
    }
   ],
   "source": [
    "df[['door_count']].boxplot()\n",
    "plt.show()"
   ]
  },
  {
   "cell_type": "code",
   "execution_count": 39,
   "id": "824ff610-a179-4f64-aa9b-1fb4b2a6fcc7",
   "metadata": {},
   "outputs": [],
   "source": [
    "Q1=df[['door_count']].quantile(0.25)\n",
    "Q1\n",
    "Q3=df[['door_count']].quantile(0.75)\n",
    "Q3\n",
    "IQR=Q3-Q1\n",
    "IQR\n",
    "LL=Q1-1.5*IQR\n",
    "UL=Q3+1.5*IQR\n",
    "df_door_count=(df[['door_count']][(df[['door_count']]>LL)&(df[['door_count']]<UL)])"
   ]
  },
  {
   "cell_type": "code",
   "execution_count": 40,
   "id": "15670ba2-261d-4420-a79c-d06f4781cf0a",
   "metadata": {},
   "outputs": [
    {
     "data": {
      "image/png": "[encoded data removed]",
      "text/plain": [
       "<Figure size 640x480 with 1 Axes>"
      ]
     },
     "metadata": {},
     "output_type": "display_data"
    }
   ],
   "source": [
    "df_door_count[['door_count']].boxplot()\n",
    "plt.show()"
   ]
  },
  {
   "cell_type": "code",
   "execution_count": 41,
   "id": "40a4ee01-4709-4203-8420-d63dfb2d65dd",
   "metadata": {},
   "outputs": [
    {
     "data": {
      "image/png": "[encoded data removed]",
      "text/plain": [
       "<Figure size 640x480 with 1 Axes>"
      ]
     },
     "metadata": {},
     "output_type": "display_data"
    }
   ],
   "source": [
    "df[['seat_count']].boxplot()\n",
    "plt.show()"
   ]
  },
  {
   "cell_type": "code",
   "execution_count": 42,
   "id": "7cc41bb8-f6db-4b38-80e7-400b3d0c00f6",
   "metadata": {},
   "outputs": [],
   "source": [
    "Q1=df[['seat_count']].quantile(0.25)\n",
    "Q1\n",
    "Q3=df[['seat_count']].quantile(0.75)\n",
    "Q3\n",
    "IQR=Q3-Q1\n",
    "IQR\n",
    "LL=Q1-1.5*IQR\n",
    "UL=Q3+1.5*IQR\n",
    "df_seat_count=(df[['seat_count']][(df[['seat_count']]>LL)&(df[['seat_count']]<UL)])"
   ]
  },
  {
   "cell_type": "code",
   "execution_count": 43,
   "id": "2a0511c8-c0f6-4575-87da-45e3f698a927",
   "metadata": {},
   "outputs": [
    {
     "data": {
      "image/png": "[encoded data removed]",
      "text/plain": [
       "<Figure size 640x480 with 1 Axes>"
      ]
     },
     "metadata": {},
     "output_type": "display_data"
    }
   ],
   "source": [
    "df_seat_count[['seat_count']].boxplot()\n",
    "plt.show()"
   ]
  },
  {
   "cell_type": "code",
   "execution_count": 44,
   "id": "f7c6c6e1-d80b-4ccd-841d-d808668962ed",
   "metadata": {},
   "outputs": [
    {
     "data": {
      "image/png": "[encoded data removed]",
      "text/plain": [
       "<Figure size 640x480 with 1 Axes>"
      ]
     },
     "metadata": {},
     "output_type": "display_data"
    }
   ],
   "source": [
    "df[['fuel_type']].boxplot()\n",
    "plt.show()"
   ]
  },
  {
   "cell_type": "code",
   "execution_count": 45,
   "id": "9c201d77-3719-412b-b14f-258d1bdaf3fb",
   "metadata": {},
   "outputs": [
    {
     "data": {
      "image/png": "[encoded data removed]",
      "text/plain": [
       "<Figure size 640x480 with 1 Axes>"
      ]
     },
     "metadata": {},
     "output_type": "display_data"
    }
   ],
   "source": [
    "df[['Price']].boxplot()\n",
    "plt.show()"
   ]
  },
  {
   "cell_type": "code",
   "execution_count": 46,
   "id": "36643795-af22-4ef7-98f7-ad0d2253bd3c",
   "metadata": {},
   "outputs": [],
   "source": [
    "dff=pd.concat([df[['Price']],df[['fuel_type']],df_seat_count,df_door_count,df[['transmission']],df[['Vroom Audit Rating']],df_engine_power,df_engine_displacement,df_age,df_manufacture_year,df[['Owner Type']],df[['Distance ']]])"
   ]
  },
  {
   "cell_type": "code",
   "execution_count": 47,
   "id": "ccf45271-34d0-4512-ac19-900d8b0be608",
   "metadata": {},
   "outputs": [
    {
     "data": {
      "image/png": "[encoded data removed]",
      "text/plain": [
       "<Figure size 640x480 with 1 Axes>"
      ]
     },
     "metadata": {},
     "output_type": "display_data"
    }
   ],
   "source": [
    "dff.boxplot()\n",
    "plt.show()"
   ]
  },
  {
   "cell_type": "code",
   "execution_count": 48,
   "id": "64dfbd36-dda9-47d0-825e-642a44e686b5",
   "metadata": {},
   "outputs": [],
   "source": [
    "from sklearn.preprocessing import StandardScaler\n",
    "ss=StandardScaler()"
   ]
  },
  {
   "cell_type": "code",
   "execution_count": 49,
   "id": "5d6fbdad-facf-4b59-a115-32d4456f4cbb",
   "metadata": {},
   "outputs": [],
   "source": [
    "import pandas as pd\n",
    "from sklearn.model_selection import train_test_split"
   ]
  },
  {
   "cell_type": "code",
   "execution_count": 50,
   "id": "9ce57cf4-ddc2-406f-9a84-b84ffbf65f2a",
   "metadata": {},
   "outputs": [
    {
     "data": {
      "text/html": [
       "<div>\n",
       "<style scoped>\n",
       "    .dataframe tbody tr th:only-of-type {\n",
       "        vertical-align: middle;\n",
       "    }\n",
       "\n",
       "    .dataframe tbody tr th {\n",
       "        vertical-align: top;\n",
       "    }\n",
       "\n",
       "    .dataframe thead th {\n",
       "        text-align: right;\n",
       "    }\n",
       "</style>\n",
       "<table border=\"1\" class=\"dataframe\">\n",
       "  <thead>\n",
       "    <tr style=\"text-align: right;\">\n",
       "      <th></th>\n",
       "      <th>Price</th>\n",
       "      <th>fuel_type</th>\n",
       "      <th>seat_count</th>\n",
       "      <th>door_count</th>\n",
       "      <th>transmission</th>\n",
       "      <th>Vroom Audit Rating</th>\n",
       "      <th>engine_power</th>\n",
       "      <th>engine_displacement</th>\n",
       "      <th>Age of car</th>\n",
       "      <th>manufacture_year</th>\n",
       "      <th>Owner Type</th>\n",
       "      <th>Distance</th>\n",
       "    </tr>\n",
       "  </thead>\n",
       "  <tbody>\n",
       "    <tr>\n",
       "      <th>0</th>\n",
       "      <td>3476.0</td>\n",
       "      <td>NaN</td>\n",
       "      <td>NaN</td>\n",
       "      <td>NaN</td>\n",
       "      <td>NaN</td>\n",
       "      <td>NaN</td>\n",
       "      <td>NaN</td>\n",
       "      <td>NaN</td>\n",
       "      <td>NaN</td>\n",
       "      <td>NaN</td>\n",
       "      <td>NaN</td>\n",
       "      <td>NaN</td>\n",
       "    </tr>\n",
       "    <tr>\n",
       "      <th>1</th>\n",
       "      <td>2237.0</td>\n",
       "      <td>NaN</td>\n",
       "      <td>NaN</td>\n",
       "      <td>NaN</td>\n",
       "      <td>NaN</td>\n",
       "      <td>NaN</td>\n",
       "      <td>NaN</td>\n",
       "      <td>NaN</td>\n",
       "      <td>NaN</td>\n",
       "      <td>NaN</td>\n",
       "      <td>NaN</td>\n",
       "      <td>NaN</td>\n",
       "    </tr>\n",
       "    <tr>\n",
       "      <th>2</th>\n",
       "      <td>17413.0</td>\n",
       "      <td>NaN</td>\n",
       "      <td>NaN</td>\n",
       "      <td>NaN</td>\n",
       "      <td>NaN</td>\n",
       "      <td>NaN</td>\n",
       "      <td>NaN</td>\n",
       "      <td>NaN</td>\n",
       "      <td>NaN</td>\n",
       "      <td>NaN</td>\n",
       "      <td>NaN</td>\n",
       "      <td>NaN</td>\n",
       "    </tr>\n",
       "    <tr>\n",
       "      <th>3</th>\n",
       "      <td>7785.0</td>\n",
       "      <td>NaN</td>\n",
       "      <td>NaN</td>\n",
       "      <td>NaN</td>\n",
       "      <td>NaN</td>\n",
       "      <td>NaN</td>\n",
       "      <td>NaN</td>\n",
       "      <td>NaN</td>\n",
       "      <td>NaN</td>\n",
       "      <td>NaN</td>\n",
       "      <td>NaN</td>\n",
       "      <td>NaN</td>\n",
       "    </tr>\n",
       "    <tr>\n",
       "      <th>4</th>\n",
       "      <td>19218.0</td>\n",
       "      <td>NaN</td>\n",
       "      <td>NaN</td>\n",
       "      <td>NaN</td>\n",
       "      <td>NaN</td>\n",
       "      <td>NaN</td>\n",
       "      <td>NaN</td>\n",
       "      <td>NaN</td>\n",
       "      <td>NaN</td>\n",
       "      <td>NaN</td>\n",
       "      <td>NaN</td>\n",
       "      <td>NaN</td>\n",
       "    </tr>\n",
       "  </tbody>\n",
       "</table>\n",
       "</div>"
      ],
      "text/plain": [
       "     Price  fuel_type  seat_count  door_count  transmission  \\\n",
       "0   3476.0        NaN         NaN         NaN           NaN   \n",
       "1   2237.0        NaN         NaN         NaN           NaN   \n",
       "2  17413.0        NaN         NaN         NaN           NaN   \n",
       "3   7785.0        NaN         NaN         NaN           NaN   \n",
       "4  19218.0        NaN         NaN         NaN           NaN   \n",
       "\n",
       "   Vroom Audit Rating  engine_power  engine_displacement  Age of car  \\\n",
       "0                 NaN           NaN                  NaN         NaN   \n",
       "1                 NaN           NaN                  NaN         NaN   \n",
       "2                 NaN           NaN                  NaN         NaN   \n",
       "3                 NaN           NaN                  NaN         NaN   \n",
       "4                 NaN           NaN                  NaN         NaN   \n",
       "\n",
       "   manufacture_year  Owner Type  Distance   \n",
       "0               NaN         NaN        NaN  \n",
       "1               NaN         NaN        NaN  \n",
       "2               NaN         NaN        NaN  \n",
       "3               NaN         NaN        NaN  \n",
       "4               NaN         NaN        NaN  "
      ]
     },
     "execution_count": 50,
     "metadata": {},
     "output_type": "execute_result"
    }
   ],
   "source": [
    "dff.head()"
   ]
  },
  {
   "cell_type": "code",
   "execution_count": 51,
   "id": "2a1edcfa-4979-480b-a0d3-ac969fbcf8d8",
   "metadata": {},
   "outputs": [
    {
     "data": {
      "text/plain": [
       "Index(['Price', 'fuel_type', 'seat_count', 'door_count', 'transmission',\n",
       "       'Vroom Audit Rating', 'engine_power', 'engine_displacement',\n",
       "       'Age of car', 'manufacture_year', 'Owner Type', 'Distance '],\n",
       "      dtype='object')"
      ]
     },
     "execution_count": 51,
     "metadata": {},
     "output_type": "execute_result"
    }
   ],
   "source": [
    "dff.columns"
   ]
  },
  {
   "cell_type": "code",
   "execution_count": 52,
   "id": "99852862-87f7-4a92-8a60-6a0ab305d43b",
   "metadata": {},
   "outputs": [],
   "source": [
    "from sklearn.linear_model import LinearRegression\n",
    "model=LinearRegression()"
   ]
  },
  {
   "cell_type": "code",
   "execution_count": 53,
   "id": "57cf7b75-e8fb-4403-88e7-3796e33f2ae2",
   "metadata": {},
   "outputs": [],
   "source": [
    "X=df[['Id', 'Maker', 'model', 'Location', 'Distance ', 'Owner Type','manufacture_year', 'Age of car',\n",
    "    'engine_displacement','engine_power','Vroom Audit Rating','transmission', 'door_count', 'seat_count','fuel_type']]"
   ]
  },
  {
   "cell_type": "code",
   "execution_count": 54,
   "id": "1a7cfbeb-1a22-449e-917a-b5d9baf59535",
   "metadata": {},
   "outputs": [],
   "source": [
    "Y=df[['Price']]"
   ]
  },
  {
   "cell_type": "code",
   "execution_count": 55,
   "id": "4bcc90f3-faa7-4ee5-8f7c-ce5ed176821b",
   "metadata": {},
   "outputs": [],
   "source": [
    "X_train,X_test,Y_train,Y_test=train_test_split(X,Y,test_size=0.25,random_state=999)"
   ]
  },
  {
   "cell_type": "code",
   "execution_count": 56,
   "id": "24eb3250-d2d6-40c3-ab06-6dbee3160f6d",
   "metadata": {},
   "outputs": [],
   "source": [
    "df1=pd.concat([X,Y],axis=1)"
   ]
  },
  {
   "cell_type": "code",
   "execution_count": 57,
   "id": "1525cb4a-b670-4d95-b458-e6464f5b935b",
   "metadata": {},
   "outputs": [
    {
     "data": {
      "text/html": [
       "<div>\n",
       "<style scoped>\n",
       "    .dataframe tbody tr th:only-of-type {\n",
       "        vertical-align: middle;\n",
       "    }\n",
       "\n",
       "    .dataframe tbody tr th {\n",
       "        vertical-align: top;\n",
       "    }\n",
       "\n",
       "    .dataframe thead th {\n",
       "        text-align: right;\n",
       "    }\n",
       "</style>\n",
       "<table border=\"1\" class=\"dataframe\">\n",
       "  <thead>\n",
       "    <tr style=\"text-align: right;\">\n",
       "      <th></th>\n",
       "      <th>Id</th>\n",
       "      <th>Maker</th>\n",
       "      <th>model</th>\n",
       "      <th>Location</th>\n",
       "      <th>Distance</th>\n",
       "      <th>Owner Type</th>\n",
       "      <th>manufacture_year</th>\n",
       "      <th>Age of car</th>\n",
       "      <th>engine_displacement</th>\n",
       "      <th>engine_power</th>\n",
       "      <th>Vroom Audit Rating</th>\n",
       "      <th>transmission</th>\n",
       "      <th>door_count</th>\n",
       "      <th>seat_count</th>\n",
       "      <th>fuel_type</th>\n",
       "      <th>Price</th>\n",
       "    </tr>\n",
       "  </thead>\n",
       "  <tbody>\n",
       "    <tr>\n",
       "      <th>0</th>\n",
       "      <td>25001</td>\n",
       "      <td>6</td>\n",
       "      <td>8</td>\n",
       "      <td>0</td>\n",
       "      <td>8118</td>\n",
       "      <td>2</td>\n",
       "      <td>1964</td>\n",
       "      <td>55</td>\n",
       "      <td>1964</td>\n",
       "      <td>111</td>\n",
       "      <td>8</td>\n",
       "      <td>1</td>\n",
       "      <td>3</td>\n",
       "      <td>4</td>\n",
       "      <td>1</td>\n",
       "      <td>3476</td>\n",
       "    </tr>\n",
       "    <tr>\n",
       "      <th>1</th>\n",
       "      <td>25002</td>\n",
       "      <td>2</td>\n",
       "      <td>9</td>\n",
       "      <td>0</td>\n",
       "      <td>4400</td>\n",
       "      <td>3</td>\n",
       "      <td>2012</td>\n",
       "      <td>7</td>\n",
       "      <td>1242</td>\n",
       "      <td>23</td>\n",
       "      <td>6</td>\n",
       "      <td>1</td>\n",
       "      <td>3</td>\n",
       "      <td>3</td>\n",
       "      <td>1</td>\n",
       "      <td>2237</td>\n",
       "    </tr>\n",
       "    <tr>\n",
       "      <th>2</th>\n",
       "      <td>25003</td>\n",
       "      <td>1</td>\n",
       "      <td>18</td>\n",
       "      <td>5</td>\n",
       "      <td>6313</td>\n",
       "      <td>3</td>\n",
       "      <td>2014</td>\n",
       "      <td>5</td>\n",
       "      <td>1995</td>\n",
       "      <td>73</td>\n",
       "      <td>7</td>\n",
       "      <td>0</td>\n",
       "      <td>3</td>\n",
       "      <td>4</td>\n",
       "      <td>0</td>\n",
       "      <td>17413</td>\n",
       "    </tr>\n",
       "    <tr>\n",
       "      <th>3</th>\n",
       "      <td>25004</td>\n",
       "      <td>5</td>\n",
       "      <td>6</td>\n",
       "      <td>9</td>\n",
       "      <td>6123</td>\n",
       "      <td>3</td>\n",
       "      <td>2011</td>\n",
       "      <td>8</td>\n",
       "      <td>1618</td>\n",
       "      <td>105</td>\n",
       "      <td>7</td>\n",
       "      <td>1</td>\n",
       "      <td>3</td>\n",
       "      <td>4</td>\n",
       "      <td>1</td>\n",
       "      <td>7785</td>\n",
       "    </tr>\n",
       "    <tr>\n",
       "      <th>4</th>\n",
       "      <td>25005</td>\n",
       "      <td>1</td>\n",
       "      <td>20</td>\n",
       "      <td>6</td>\n",
       "      <td>7584</td>\n",
       "      <td>1</td>\n",
       "      <td>2012</td>\n",
       "      <td>7</td>\n",
       "      <td>2993</td>\n",
       "      <td>133</td>\n",
       "      <td>7</td>\n",
       "      <td>0</td>\n",
       "      <td>3</td>\n",
       "      <td>4</td>\n",
       "      <td>0</td>\n",
       "      <td>19218</td>\n",
       "    </tr>\n",
       "    <tr>\n",
       "      <th>...</th>\n",
       "      <td>...</td>\n",
       "      <td>...</td>\n",
       "      <td>...</td>\n",
       "      <td>...</td>\n",
       "      <td>...</td>\n",
       "      <td>...</td>\n",
       "      <td>...</td>\n",
       "      <td>...</td>\n",
       "      <td>...</td>\n",
       "      <td>...</td>\n",
       "      <td>...</td>\n",
       "      <td>...</td>\n",
       "      <td>...</td>\n",
       "      <td>...</td>\n",
       "      <td>...</td>\n",
       "      <td>...</td>\n",
       "    </tr>\n",
       "    <tr>\n",
       "      <th>53510</th>\n",
       "      <td>78511</td>\n",
       "      <td>6</td>\n",
       "      <td>8</td>\n",
       "      <td>4</td>\n",
       "      <td>4604</td>\n",
       "      <td>1</td>\n",
       "      <td>2014</td>\n",
       "      <td>5</td>\n",
       "      <td>1598</td>\n",
       "      <td>45</td>\n",
       "      <td>4</td>\n",
       "      <td>1</td>\n",
       "      <td>3</td>\n",
       "      <td>4</td>\n",
       "      <td>0</td>\n",
       "      <td>11338</td>\n",
       "    </tr>\n",
       "    <tr>\n",
       "      <th>53511</th>\n",
       "      <td>78512</td>\n",
       "      <td>6</td>\n",
       "      <td>8</td>\n",
       "      <td>1</td>\n",
       "      <td>17373</td>\n",
       "      <td>1</td>\n",
       "      <td>2009</td>\n",
       "      <td>10</td>\n",
       "      <td>1900</td>\n",
       "      <td>45</td>\n",
       "      <td>8</td>\n",
       "      <td>1</td>\n",
       "      <td>4</td>\n",
       "      <td>4</td>\n",
       "      <td>0</td>\n",
       "      <td>3183</td>\n",
       "    </tr>\n",
       "    <tr>\n",
       "      <th>53512</th>\n",
       "      <td>78513</td>\n",
       "      <td>1</td>\n",
       "      <td>18</td>\n",
       "      <td>10</td>\n",
       "      <td>3985</td>\n",
       "      <td>3</td>\n",
       "      <td>2015</td>\n",
       "      <td>4</td>\n",
       "      <td>1995</td>\n",
       "      <td>73</td>\n",
       "      <td>4</td>\n",
       "      <td>0</td>\n",
       "      <td>3</td>\n",
       "      <td>4</td>\n",
       "      <td>0</td>\n",
       "      <td>15760</td>\n",
       "    </tr>\n",
       "    <tr>\n",
       "      <th>53513</th>\n",
       "      <td>78514</td>\n",
       "      <td>7</td>\n",
       "      <td>1</td>\n",
       "      <td>6</td>\n",
       "      <td>18608</td>\n",
       "      <td>3</td>\n",
       "      <td>2011</td>\n",
       "      <td>8</td>\n",
       "      <td>11950</td>\n",
       "      <td>61</td>\n",
       "      <td>5</td>\n",
       "      <td>1</td>\n",
       "      <td>3</td>\n",
       "      <td>4</td>\n",
       "      <td>0</td>\n",
       "      <td>6870</td>\n",
       "    </tr>\n",
       "    <tr>\n",
       "      <th>53514</th>\n",
       "      <td>78515</td>\n",
       "      <td>1</td>\n",
       "      <td>20</td>\n",
       "      <td>7</td>\n",
       "      <td>13833</td>\n",
       "      <td>0</td>\n",
       "      <td>2008</td>\n",
       "      <td>11</td>\n",
       "      <td>2993</td>\n",
       "      <td>128</td>\n",
       "      <td>4</td>\n",
       "      <td>0</td>\n",
       "      <td>4</td>\n",
       "      <td>4</td>\n",
       "      <td>0</td>\n",
       "      <td>13239</td>\n",
       "    </tr>\n",
       "  </tbody>\n",
       "</table>\n",
       "<p>53515 rows × 16 columns</p>\n",
       "</div>"
      ],
      "text/plain": [
       "          Id  Maker  model  Location  Distance   Owner Type  manufacture_year  \\\n",
       "0      25001      6      8         0       8118           2              1964   \n",
       "1      25002      2      9         0       4400           3              2012   \n",
       "2      25003      1     18         5       6313           3              2014   \n",
       "3      25004      5      6         9       6123           3              2011   \n",
       "4      25005      1     20         6       7584           1              2012   \n",
       "...      ...    ...    ...       ...        ...         ...               ...   \n",
       "53510  78511      6      8         4       4604           1              2014   \n",
       "53511  78512      6      8         1      17373           1              2009   \n",
       "53512  78513      1     18        10       3985           3              2015   \n",
       "53513  78514      7      1         6      18608           3              2011   \n",
       "53514  78515      1     20         7      13833           0              2008   \n",
       "\n",
       "       Age of car  engine_displacement  engine_power  Vroom Audit Rating  \\\n",
       "0              55                 1964           111                   8   \n",
       "1               7                 1242            23                   6   \n",
       "2               5                 1995            73                   7   \n",
       "3               8                 1618           105                   7   \n",
       "4               7                 2993           133                   7   \n",
       "...           ...                  ...           ...                 ...   \n",
       "53510           5                 1598            45                   4   \n",
       "53511          10                 1900            45                   8   \n",
       "53512           4                 1995            73                   4   \n",
       "53513           8                11950            61                   5   \n",
       "53514          11                 2993           128                   4   \n",
       "\n",
       "       transmission  door_count  seat_count  fuel_type  Price  \n",
       "0                 1           3           4          1   3476  \n",
       "1                 1           3           3          1   2237  \n",
       "2                 0           3           4          0  17413  \n",
       "3                 1           3           4          1   7785  \n",
       "4                 0           3           4          0  19218  \n",
       "...             ...         ...         ...        ...    ...  \n",
       "53510             1           3           4          0  11338  \n",
       "53511             1           4           4          0   3183  \n",
       "53512             0           3           4          0  15760  \n",
       "53513             1           3           4          0   6870  \n",
       "53514             0           4           4          0  13239  \n",
       "\n",
       "[53515 rows x 16 columns]"
      ]
     },
     "execution_count": 57,
     "metadata": {},
     "output_type": "execute_result"
    }
   ],
   "source": [
    "df1"
   ]
  },
  {
   "cell_type": "code",
   "execution_count": 58,
   "id": "30aa0c4f-b3f8-45e1-98a7-3e63e0d29344",
   "metadata": {},
   "outputs": [],
   "source": [
    "df_stand=pd.DataFrame(ss.fit_transform(df1),columns=df1.columns)"
   ]
  },
  {
   "cell_type": "code",
   "execution_count": 59,
   "id": "4075a838-462a-4eac-8a9a-0fe4566cbefe",
   "metadata": {},
   "outputs": [
    {
     "data": {
      "text/html": [
       "<div>\n",
       "<style scoped>\n",
       "    .dataframe tbody tr th:only-of-type {\n",
       "        vertical-align: middle;\n",
       "    }\n",
       "\n",
       "    .dataframe tbody tr th {\n",
       "        vertical-align: top;\n",
       "    }\n",
       "\n",
       "    .dataframe thead th {\n",
       "        text-align: right;\n",
       "    }\n",
       "</style>\n",
       "<table border=\"1\" class=\"dataframe\">\n",
       "  <thead>\n",
       "    <tr style=\"text-align: right;\">\n",
       "      <th></th>\n",
       "      <th>Id</th>\n",
       "      <th>Maker</th>\n",
       "      <th>model</th>\n",
       "      <th>Location</th>\n",
       "      <th>Distance</th>\n",
       "      <th>Owner Type</th>\n",
       "      <th>manufacture_year</th>\n",
       "      <th>Age of car</th>\n",
       "      <th>engine_displacement</th>\n",
       "      <th>engine_power</th>\n",
       "      <th>Vroom Audit Rating</th>\n",
       "      <th>transmission</th>\n",
       "      <th>door_count</th>\n",
       "      <th>seat_count</th>\n",
       "      <th>fuel_type</th>\n",
       "      <th>Price</th>\n",
       "    </tr>\n",
       "  </thead>\n",
       "  <tbody>\n",
       "    <tr>\n",
       "      <th>0</th>\n",
       "      <td>-1.732018</td>\n",
       "      <td>0.670441</td>\n",
       "      <td>-0.525379</td>\n",
       "      <td>-1.586828</td>\n",
       "      <td>-0.002305</td>\n",
       "      <td>0.447065</td>\n",
       "      <td>-9.979640</td>\n",
       "      <td>9.979640</td>\n",
       "      <td>0.040059</td>\n",
       "      <td>1.282784</td>\n",
       "      <td>1.411263</td>\n",
       "      <td>0.675888</td>\n",
       "      <td>0.033775</td>\n",
       "      <td>0.184494</td>\n",
       "      <td>1.030417</td>\n",
       "      <td>-0.816526</td>\n",
       "    </tr>\n",
       "    <tr>\n",
       "      <th>1</th>\n",
       "      <td>-1.731954</td>\n",
       "      <td>-0.895167</td>\n",
       "      <td>-0.363222</td>\n",
       "      <td>-1.586828</td>\n",
       "      <td>-0.628824</td>\n",
       "      <td>1.340911</td>\n",
       "      <td>0.342321</td>\n",
       "      <td>-0.342321</td>\n",
       "      <td>-0.442383</td>\n",
       "      <td>-1.204789</td>\n",
       "      <td>0.001146</td>\n",
       "      <td>0.675888</td>\n",
       "      <td>0.033775</td>\n",
       "      <td>-1.741610</td>\n",
       "      <td>1.030417</td>\n",
       "      <td>-1.037818</td>\n",
       "    </tr>\n",
       "    <tr>\n",
       "      <th>2</th>\n",
       "      <td>-1.731889</td>\n",
       "      <td>-1.286569</td>\n",
       "      <td>1.096195</td>\n",
       "      <td>-0.003090</td>\n",
       "      <td>-0.306465</td>\n",
       "      <td>1.340911</td>\n",
       "      <td>0.772403</td>\n",
       "      <td>-0.772403</td>\n",
       "      <td>0.060774</td>\n",
       "      <td>0.208605</td>\n",
       "      <td>0.706204</td>\n",
       "      <td>-1.479535</td>\n",
       "      <td>0.033775</td>\n",
       "      <td>0.184494</td>\n",
       "      <td>-0.970481</td>\n",
       "      <td>1.672703</td>\n",
       "    </tr>\n",
       "    <tr>\n",
       "      <th>3</th>\n",
       "      <td>-1.731824</td>\n",
       "      <td>0.279039</td>\n",
       "      <td>-0.849694</td>\n",
       "      <td>1.263901</td>\n",
       "      <td>-0.338482</td>\n",
       "      <td>1.340911</td>\n",
       "      <td>0.127281</td>\n",
       "      <td>-0.127281</td>\n",
       "      <td>-0.191139</td>\n",
       "      <td>1.113177</td>\n",
       "      <td>0.706204</td>\n",
       "      <td>0.675888</td>\n",
       "      <td>0.033775</td>\n",
       "      <td>0.184494</td>\n",
       "      <td>1.030417</td>\n",
       "      <td>-0.046914</td>\n",
       "    </tr>\n",
       "    <tr>\n",
       "      <th>4</th>\n",
       "      <td>-1.731760</td>\n",
       "      <td>-1.286569</td>\n",
       "      <td>1.420509</td>\n",
       "      <td>0.313658</td>\n",
       "      <td>-0.092289</td>\n",
       "      <td>-0.446781</td>\n",
       "      <td>0.342321</td>\n",
       "      <td>-0.342321</td>\n",
       "      <td>0.727641</td>\n",
       "      <td>1.904677</td>\n",
       "      <td>0.706204</td>\n",
       "      <td>-1.479535</td>\n",
       "      <td>0.033775</td>\n",
       "      <td>0.184494</td>\n",
       "      <td>-0.970481</td>\n",
       "      <td>1.995086</td>\n",
       "    </tr>\n",
       "    <tr>\n",
       "      <th>...</th>\n",
       "      <td>...</td>\n",
       "      <td>...</td>\n",
       "      <td>...</td>\n",
       "      <td>...</td>\n",
       "      <td>...</td>\n",
       "      <td>...</td>\n",
       "      <td>...</td>\n",
       "      <td>...</td>\n",
       "      <td>...</td>\n",
       "      <td>...</td>\n",
       "      <td>...</td>\n",
       "      <td>...</td>\n",
       "      <td>...</td>\n",
       "      <td>...</td>\n",
       "      <td>...</td>\n",
       "      <td>...</td>\n",
       "    </tr>\n",
       "    <tr>\n",
       "      <th>53510</th>\n",
       "      <td>1.731760</td>\n",
       "      <td>0.670441</td>\n",
       "      <td>-0.525379</td>\n",
       "      <td>-0.319837</td>\n",
       "      <td>-0.594448</td>\n",
       "      <td>-0.446781</td>\n",
       "      <td>0.772403</td>\n",
       "      <td>-0.772403</td>\n",
       "      <td>-0.204503</td>\n",
       "      <td>-0.582896</td>\n",
       "      <td>-1.408970</td>\n",
       "      <td>0.675888</td>\n",
       "      <td>0.033775</td>\n",
       "      <td>0.184494</td>\n",
       "      <td>-0.970481</td>\n",
       "      <td>0.587673</td>\n",
       "    </tr>\n",
       "    <tr>\n",
       "      <th>53511</th>\n",
       "      <td>1.731824</td>\n",
       "      <td>0.670441</td>\n",
       "      <td>-0.525379</td>\n",
       "      <td>-1.270080</td>\n",
       "      <td>1.557252</td>\n",
       "      <td>-0.446781</td>\n",
       "      <td>-0.302801</td>\n",
       "      <td>0.302801</td>\n",
       "      <td>-0.002706</td>\n",
       "      <td>-0.582896</td>\n",
       "      <td>1.411263</td>\n",
       "      <td>0.675888</td>\n",
       "      <td>1.490221</td>\n",
       "      <td>0.184494</td>\n",
       "      <td>-0.970481</td>\n",
       "      <td>-0.868857</td>\n",
       "    </tr>\n",
       "    <tr>\n",
       "      <th>53512</th>\n",
       "      <td>1.731889</td>\n",
       "      <td>-1.286569</td>\n",
       "      <td>1.096195</td>\n",
       "      <td>1.580648</td>\n",
       "      <td>-0.698756</td>\n",
       "      <td>1.340911</td>\n",
       "      <td>0.987444</td>\n",
       "      <td>-0.987444</td>\n",
       "      <td>0.060774</td>\n",
       "      <td>0.208605</td>\n",
       "      <td>-1.408970</td>\n",
       "      <td>-1.479535</td>\n",
       "      <td>0.033775</td>\n",
       "      <td>0.184494</td>\n",
       "      <td>-0.970481</td>\n",
       "      <td>1.377467</td>\n",
       "    </tr>\n",
       "    <tr>\n",
       "      <th>53513</th>\n",
       "      <td>1.731954</td>\n",
       "      <td>1.061843</td>\n",
       "      <td>-1.660480</td>\n",
       "      <td>0.313658</td>\n",
       "      <td>1.765362</td>\n",
       "      <td>1.340911</td>\n",
       "      <td>0.127281</td>\n",
       "      <td>-0.127281</td>\n",
       "      <td>6.712737</td>\n",
       "      <td>-0.130610</td>\n",
       "      <td>-0.703912</td>\n",
       "      <td>0.675888</td>\n",
       "      <td>0.033775</td>\n",
       "      <td>0.184494</td>\n",
       "      <td>-0.970481</td>\n",
       "      <td>-0.210338</td>\n",
       "    </tr>\n",
       "    <tr>\n",
       "      <th>53514</th>\n",
       "      <td>1.732018</td>\n",
       "      <td>-1.286569</td>\n",
       "      <td>1.420509</td>\n",
       "      <td>0.630406</td>\n",
       "      <td>0.960728</td>\n",
       "      <td>-1.340627</td>\n",
       "      <td>-0.517842</td>\n",
       "      <td>0.517842</td>\n",
       "      <td>0.727641</td>\n",
       "      <td>1.763338</td>\n",
       "      <td>-1.408970</td>\n",
       "      <td>-1.479535</td>\n",
       "      <td>1.490221</td>\n",
       "      <td>0.184494</td>\n",
       "      <td>-0.970481</td>\n",
       "      <td>0.927202</td>\n",
       "    </tr>\n",
       "  </tbody>\n",
       "</table>\n",
       "<p>53515 rows × 16 columns</p>\n",
       "</div>"
      ],
      "text/plain": [
       "             Id     Maker     model  Location  Distance   Owner Type  \\\n",
       "0     -1.732018  0.670441 -0.525379 -1.586828  -0.002305    0.447065   \n",
       "1     -1.731954 -0.895167 -0.363222 -1.586828  -0.628824    1.340911   \n",
       "2     -1.731889 -1.286569  1.096195 -0.003090  -0.306465    1.340911   \n",
       "3     -1.731824  0.279039 -0.849694  1.263901  -0.338482    1.340911   \n",
       "4     -1.731760 -1.286569  1.420509  0.313658  -0.092289   -0.446781   \n",
       "...         ...       ...       ...       ...        ...         ...   \n",
       "53510  1.731760  0.670441 -0.525379 -0.319837  -0.594448   -0.446781   \n",
       "53511  1.731824  0.670441 -0.525379 -1.270080   1.557252   -0.446781   \n",
       "53512  1.731889 -1.286569  1.096195  1.580648  -0.698756    1.340911   \n",
       "53513  1.731954  1.061843 -1.660480  0.313658   1.765362    1.340911   \n",
       "53514  1.732018 -1.286569  1.420509  0.630406   0.960728   -1.340627   \n",
       "\n",
       "       manufacture_year  Age of car  engine_displacement  engine_power  \\\n",
       "0             -9.979640    9.979640             0.040059      1.282784   \n",
       "1              0.342321   -0.342321            -0.442383     -1.204789   \n",
       "2              0.772403   -0.772403             0.060774      0.208605   \n",
       "3              0.127281   -0.127281            -0.191139      1.113177   \n",
       "4              0.342321   -0.342321             0.727641      1.904677   \n",
       "...                 ...         ...                  ...           ...   \n",
       "53510          0.772403   -0.772403            -0.204503     -0.582896   \n",
       "53511         -0.302801    0.302801            -0.002706     -0.582896   \n",
       "53512          0.987444   -0.987444             0.060774      0.208605   \n",
       "53513          0.127281   -0.127281             6.712737     -0.130610   \n",
       "53514         -0.517842    0.517842             0.727641      1.763338   \n",
       "\n",
       "       Vroom Audit Rating  transmission  door_count  seat_count  fuel_type  \\\n",
       "0                1.411263      0.675888    0.033775    0.184494   1.030417   \n",
       "1                0.001146      0.675888    0.033775   -1.741610   1.030417   \n",
       "2                0.706204     -1.479535    0.033775    0.184494  -0.970481   \n",
       "3                0.706204      0.675888    0.033775    0.184494   1.030417   \n",
       "4                0.706204     -1.479535    0.033775    0.184494  -0.970481   \n",
       "...                   ...           ...         ...         ...        ...   \n",
       "53510           -1.408970      0.675888    0.033775    0.184494  -0.970481   \n",
       "53511            1.411263      0.675888    1.490221    0.184494  -0.970481   \n",
       "53512           -1.408970     -1.479535    0.033775    0.184494  -0.970481   \n",
       "53513           -0.703912      0.675888    0.033775    0.184494  -0.970481   \n",
       "53514           -1.408970     -1.479535    1.490221    0.184494  -0.970481   \n",
       "\n",
       "          Price  \n",
       "0     -0.816526  \n",
       "1     -1.037818  \n",
       "2      1.672703  \n",
       "3     -0.046914  \n",
       "4      1.995086  \n",
       "...         ...  \n",
       "53510  0.587673  \n",
       "53511 -0.868857  \n",
       "53512  1.377467  \n",
       "53513 -0.210338  \n",
       "53514  0.927202  \n",
       "\n",
       "[53515 rows x 16 columns]"
      ]
     },
     "execution_count": 59,
     "metadata": {},
     "output_type": "execute_result"
    }
   ],
   "source": [
    "df_stand"
   ]
  },
  {
   "cell_type": "code",
   "execution_count": 60,
   "id": "cdd902ce-3357-4308-9671-e9c36734051b",
   "metadata": {},
   "outputs": [
    {
     "data": {
      "text/plain": [
       "Id                     0\n",
       "Maker                  0\n",
       "model                  0\n",
       "Location               0\n",
       "Distance               0\n",
       "Owner Type             0\n",
       "manufacture_year       0\n",
       "Age of car             0\n",
       "engine_displacement    0\n",
       "engine_power           0\n",
       "Vroom Audit Rating     0\n",
       "transmission           0\n",
       "door_count             0\n",
       "seat_count             0\n",
       "fuel_type              0\n",
       "Price                  0\n",
       "dtype: int64"
      ]
     },
     "execution_count": 60,
     "metadata": {},
     "output_type": "execute_result"
    }
   ],
   "source": [
    "df_stand.isnull().sum()"
   ]
  },
  {
   "cell_type": "code",
   "execution_count": 61,
   "id": "75402063-b064-43eb-8605-5b7bf1163a3c",
   "metadata": {},
   "outputs": [
    {
     "data": {
      "text/plain": [
       "Id                     float64\n",
       "Maker                  float64\n",
       "model                  float64\n",
       "Location               float64\n",
       "Distance               float64\n",
       "Owner Type             float64\n",
       "manufacture_year       float64\n",
       "Age of car             float64\n",
       "engine_displacement    float64\n",
       "engine_power           float64\n",
       "Vroom Audit Rating     float64\n",
       "transmission           float64\n",
       "door_count             float64\n",
       "seat_count             float64\n",
       "fuel_type              float64\n",
       "Price                  float64\n",
       "dtype: object"
      ]
     },
     "execution_count": 61,
     "metadata": {},
     "output_type": "execute_result"
    }
   ],
   "source": [
    "df_stand.dtypes"
   ]
  },
  {
   "cell_type": "code",
   "execution_count": 62,
   "id": "1d27c6fb-afcf-48ed-9601-f1ce63afc6f0",
   "metadata": {},
   "outputs": [],
   "source": [
    "df_stand['Maker']=le.fit_transform(df_stand['Maker'])\n",
    "df_stand['model']=le.fit_transform(df_stand['model'])\n",
    "df_stand['Location']=le.fit_transform(df_stand['Location'])\n",
    "df_stand['Distance ']=le.fit_transform(df_stand['Distance '])\n",
    "df_stand['Owner Type']=le.fit_transform(df_stand['Owner Type'])\n",
    "df_stand['engine_power']=le.fit_transform(df_stand['engine_power'])\n",
    "df_stand['transmission']=le.fit_transform(df_stand['transmission'])\n",
    "df_stand['door_count']=le.fit_transform(df_stand['door_count'])\n",
    "df_stand['seat_count']=le.fit_transform(df_stand['seat_count'])\n",
    "df_stand['fuel_type']=le.fit_transform(df_stand['fuel_type'])\n",
    "df_stand['Price']=le.fit_transform(df_stand['Price'])\n",
    "df_stand['Id']=le.fit_transform(df_stand['Id'])\n",
    "df_stand['manufacture_year']=le.fit_transform(df_stand['manufacture_year'])\n",
    "df_stand['Age of car']=le.fit_transform(df_stand['Age of car'])\n",
    "df_stand['engine_displacement']=le.fit_transform(df_stand['engine_displacement'])\n",
    "df_stand['Vroom Audit Rating']=le.fit_transform(df_stand['Vroom Audit Rating'])"
   ]
  },
  {
   "cell_type": "code",
   "execution_count": 63,
   "id": "00d6081d-cc08-4b9a-98ac-549e5dcf5cd0",
   "metadata": {},
   "outputs": [
    {
     "data": {
      "text/plain": [
       "Id                     int64\n",
       "Maker                  int64\n",
       "model                  int64\n",
       "Location               int64\n",
       "Distance               int64\n",
       "Owner Type             int64\n",
       "manufacture_year       int64\n",
       "Age of car             int64\n",
       "engine_displacement    int64\n",
       "engine_power           int64\n",
       "Vroom Audit Rating     int64\n",
       "transmission           int64\n",
       "door_count             int64\n",
       "seat_count             int64\n",
       "fuel_type              int64\n",
       "Price                  int64\n",
       "dtype: object"
      ]
     },
     "execution_count": 63,
     "metadata": {},
     "output_type": "execute_result"
    }
   ],
   "source": [
    "df_stand.dtypes"
   ]
  },
  {
   "cell_type": "code",
   "execution_count": 64,
   "id": "6c9971cc-14a5-491f-91da-aa3dbb2da691",
   "metadata": {},
   "outputs": [
    {
     "data": {
      "image/png": "[encoded data removed]",
      "text/plain": [
       "<Figure size 640x480 with 1 Axes>"
      ]
     },
     "metadata": {},
     "output_type": "display_data"
    }
   ],
   "source": [
    "df_stand.boxplot()\n",
    "plt.show()"
   ]
  },
  {
   "cell_type": "code",
   "execution_count": 65,
   "id": "7b51d57c-839b-4275-8dc3-9d1e6f8a1999",
   "metadata": {},
   "outputs": [],
   "source": [
    "from sklearn.linear_model import LinearRegression\n",
    "model=LinearRegression()"
   ]
  },
  {
   "cell_type": "code",
   "execution_count": 66,
   "id": "ee014a14-4840-4b8d-94f2-757c32bca2c3",
   "metadata": {},
   "outputs": [
    {
     "data": {
      "text/html": [
       "<style>#sk-container-id-1 {\n",
       "  /* Definition of color scheme common for light and dark mode */\n",
       "  --sklearn-color-text: black;\n",
       "  --sklearn-color-line: gray;\n",
       "  /* Definition of color scheme for unfitted estimators */\n",
       "  --sklearn-color-unfitted-level-0: #fff5e6;\n",
       "  --sklearn-color-unfitted-level-1: #f6e4d2;\n",
       "  --sklearn-color-unfitted-level-2: #ffe0b3;\n",
       "  --sklearn-color-unfitted-level-3: chocolate;\n",
       "  /* Definition of color scheme for fitted estimators */\n",
       "  --sklearn-color-fitted-level-0: #f0f8ff;\n",
       "  --sklearn-color-fitted-level-1: #d4ebff;\n",
       "  --sklearn-color-fitted-level-2: #b3dbfd;\n",
       "  --sklearn-color-fitted-level-3: cornflowerblue;\n",
       "\n",
       "  /* Specific color for light theme */\n",
       "  --sklearn-color-text-on-default-background: var(--sg-text-color, var(--theme-code-foreground, var(--jp-content-font-color1, black)));\n",
       "  --sklearn-color-background: var(--sg-background-color, var(--theme-background, var(--jp-layout-color0, white)));\n",
       "  --sklearn-color-border-box: var(--sg-text-color, var(--theme-code-foreground, var(--jp-content-font-color1, black)));\n",
       "  --sklearn-color-icon: #696969;\n",
       "\n",
       "  @media (prefers-color-scheme: dark) {\n",
       "    /* Redefinition of color scheme for dark theme */\n",
       "    --sklearn-color-text-on-default-background: var(--sg-text-color, var(--theme-code-foreground, var(--jp-content-font-color1, white)));\n",
       "    --sklearn-color-background: var(--sg-background-color, var(--theme-background, var(--jp-layout-color0, #111)));\n",
       "    --sklearn-color-border-box: var(--sg-text-color, var(--theme-code-foreground, var(--jp-content-font-color1, white)));\n",
       "    --sklearn-color-icon: #878787;\n",
       "  }\n",
       "}\n",
       "\n",
       "#sk-container-id-1 {\n",
       "  color: var(--sklearn-color-text);\n",
       "}\n",
       "\n",
       "#sk-container-id-1 pre {\n",
       "  padding: 0;\n",
       "}\n",
       "\n",
       "#sk-container-id-1 input.sk-hidden--visually {\n",
       "  border: 0;\n",
       "  clip: rect(1px 1px 1px 1px);\n",
       "  clip: rect(1px, 1px, 1px, 1px);\n",
       "  height: 1px;\n",
       "  margin: -1px;\n",
       "  overflow: hidden;\n",
       "  padding: 0;\n",
       "  position: absolute;\n",
       "  width: 1px;\n",
       "}\n",
       "\n",
       "#sk-container-id-1 div.sk-dashed-wrapped {\n",
       "  border: 1px dashed var(--sklearn-color-line);\n",
       "  margin: 0 0.4em 0.5em 0.4em;\n",
       "  box-sizing: border-box;\n",
       "  padding-bottom: 0.4em;\n",
       "  background-color: var(--sklearn-color-background);\n",
       "}\n",
       "\n",
       "#sk-container-id-1 div.sk-container {\n",
       "  /* jupyter's `normalize.less` sets `[hidden] { display: none; }`\n",
       "     but bootstrap.min.css set `[hidden] { display: none !important; }`\n",
       "     so we also need the `!important` here to be able to override the\n",
       "     default hidden behavior on the sphinx rendered scikit-learn.org.\n",
       "     See: https://github.com/scikit-learn/scikit-learn/issues/21755 */\n",
       "  display: inline-block !important;\n",
       "  position: relative;\n",
       "}\n",
       "\n",
       "#sk-container-id-1 div.sk-text-repr-fallback {\n",
       "  display: none;\n",
       "}\n",
       "\n",
       "div.sk-parallel-item,\n",
       "div.sk-serial,\n",
       "div.sk-item {\n",
       "  /* draw centered vertical line to link estimators */\n",
       "  background-image: linear-gradient(var(--sklearn-color-text-on-default-background), var(--sklearn-color-text-on-default-background));\n",
       "  background-size: 2px 100%;\n",
       "  background-repeat: no-repeat;\n",
       "  background-position: center center;\n",
       "}\n",
       "\n",
       "/* Parallel-specific style estimator block */\n",
       "\n",
       "#sk-container-id-1 div.sk-parallel-item::after {\n",
       "  content: \"\";\n",
       "  width: 100%;\n",
       "  border-bottom: 2px solid var(--sklearn-color-text-on-default-background);\n",
       "  flex-grow: 1;\n",
       "}\n",
       "\n",
       "#sk-container-id-1 div.sk-parallel {\n",
       "  display: flex;\n",
       "  align-items: stretch;\n",
       "  justify-content: center;\n",
       "  background-color: var(--sklearn-color-background);\n",
       "  position: relative;\n",
       "}\n",
       "\n",
       "#sk-container-id-1 div.sk-parallel-item {\n",
       "  display: flex;\n",
       "  flex-direction: column;\n",
       "}\n",
       "\n",
       "#sk-container-id-1 div.sk-parallel-item:first-child::after {\n",
       "  align-self: flex-end;\n",
       "  width: 50%;\n",
       "}\n",
       "\n",
       "#sk-container-id-1 div.sk-parallel-item:last-child::after {\n",
       "  align-self: flex-start;\n",
       "  width: 50%;\n",
       "}\n",
       "\n",
       "#sk-container-id-1 div.sk-parallel-item:only-child::after {\n",
       "  width: 0;\n",
       "}\n",
       "\n",
       "/* Serial-specific style estimator block */\n",
       "\n",
       "#sk-container-id-1 div.sk-serial {\n",
       "  display: flex;\n",
       "  flex-direction: column;\n",
       "  align-items: center;\n",
       "  background-color: var(--sklearn-color-background);\n",
       "  padding-right: 1em;\n",
       "  padding-left: 1em;\n",
       "}\n",
       "\n",
       "\n",
       "/* Toggleable style: style used for estimator/Pipeline/ColumnTransformer box that is\n",
       "clickable and can be expanded/collapsed.\n",
       "- Pipeline and ColumnTransformer use this feature and define the default style\n",
       "- Estimators will overwrite some part of the style using the `sk-estimator` class\n",
       "*/\n",
       "\n",
       "/* Pipeline and ColumnTransformer style (default) */\n",
       "\n",
       "#sk-container-id-1 div.sk-toggleable {\n",
       "  /* Default theme specific background. It is overwritten whether we have a\n",
       "  specific estimator or a Pipeline/ColumnTransformer */\n",
       "  background-color: var(--sklearn-color-background);\n",
       "}\n",
       "\n",
       "/* Toggleable label */\n",
       "#sk-container-id-1 label.sk-toggleable__label {\n",
       "  cursor: pointer;\n",
       "  display: block;\n",
       "  width: 100%;\n",
       "  margin-bottom: 0;\n",
       "  padding: 0.5em;\n",
       "  box-sizing: border-box;\n",
       "  text-align: center;\n",
       "}\n",
       "\n",
       "#sk-container-id-1 label.sk-toggleable__label-arrow:before {\n",
       "  /* Arrow on the left of the label */\n",
       "  content: \"▸\";\n",
       "  float: left;\n",
       "  margin-right: 0.25em;\n",
       "  color: var(--sklearn-color-icon);\n",
       "}\n",
       "\n",
       "#sk-container-id-1 label.sk-toggleable__label-arrow:hover:before {\n",
       "  color: var(--sklearn-color-text);\n",
       "}\n",
       "\n",
       "/* Toggleable content - dropdown */\n",
       "\n",
       "#sk-container-id-1 div.sk-toggleable__content {\n",
       "  max-height: 0;\n",
       "  max-width: 0;\n",
       "  overflow: hidden;\n",
       "  text-align: left;\n",
       "  /* unfitted */\n",
       "  background-color: var(--sklearn-color-unfitted-level-0);\n",
       "}\n",
       "\n",
       "#sk-container-id-1 div.sk-toggleable__content.fitted {\n",
       "  /* fitted */\n",
       "  background-color: var(--sklearn-color-fitted-level-0);\n",
       "}\n",
       "\n",
       "#sk-container-id-1 div.sk-toggleable__content pre {\n",
       "  margin: 0.2em;\n",
       "  border-radius: 0.25em;\n",
       "  color: var(--sklearn-color-text);\n",
       "  /* unfitted */\n",
       "  background-color: var(--sklearn-color-unfitted-level-0);\n",
       "}\n",
       "\n",
       "#sk-container-id-1 div.sk-toggleable__content.fitted pre {\n",
       "  /* unfitted */\n",
       "  background-color: var(--sklearn-color-fitted-level-0);\n",
       "}\n",
       "\n",
       "#sk-container-id-1 input.sk-toggleable__control:checked~div.sk-toggleable__content {\n",
       "  /* Expand drop-down */\n",
       "  max-height: 200px;\n",
       "  max-width: 100%;\n",
       "  overflow: auto;\n",
       "}\n",
       "\n",
       "#sk-container-id-1 input.sk-toggleable__control:checked~label.sk-toggleable__label-arrow:before {\n",
       "  content: \"▾\";\n",
       "}\n",
       "\n",
       "/* Pipeline/ColumnTransformer-specific style */\n",
       "\n",
       "#sk-container-id-1 div.sk-label input.sk-toggleable__control:checked~label.sk-toggleable__label {\n",
       "  color: var(--sklearn-color-text);\n",
       "  background-color: var(--sklearn-color-unfitted-level-2);\n",
       "}\n",
       "\n",
       "#sk-container-id-1 div.sk-label.fitted input.sk-toggleable__control:checked~label.sk-toggleable__label {\n",
       "  background-color: var(--sklearn-color-fitted-level-2);\n",
       "}\n",
       "\n",
       "/* Estimator-specific style */\n",
       "\n",
       "/* Colorize estimator box */\n",
       "#sk-container-id-1 div.sk-estimator input.sk-toggleable__control:checked~label.sk-toggleable__label {\n",
       "  /* unfitted */\n",
       "  background-color: var(--sklearn-color-unfitted-level-2);\n",
       "}\n",
       "\n",
       "#sk-container-id-1 div.sk-estimator.fitted input.sk-toggleable__control:checked~label.sk-toggleable__label {\n",
       "  /* fitted */\n",
       "  background-color: var(--sklearn-color-fitted-level-2);\n",
       "}\n",
       "\n",
       "#sk-container-id-1 div.sk-label label.sk-toggleable__label,\n",
       "#sk-container-id-1 div.sk-label label {\n",
       "  /* The background is the default theme color */\n",
       "  color: var(--sklearn-color-text-on-default-background);\n",
       "}\n",
       "\n",
       "/* On hover, darken the color of the background */\n",
       "#sk-container-id-1 div.sk-label:hover label.sk-toggleable__label {\n",
       "  color: var(--sklearn-color-text);\n",
       "  background-color: var(--sklearn-color-unfitted-level-2);\n",
       "}\n",
       "\n",
       "/* Label box, darken color on hover, fitted */\n",
       "#sk-container-id-1 div.sk-label.fitted:hover label.sk-toggleable__label.fitted {\n",
       "  color: var(--sklearn-color-text);\n",
       "  background-color: var(--sklearn-color-fitted-level-2);\n",
       "}\n",
       "\n",
       "/* Estimator label */\n",
       "\n",
       "#sk-container-id-1 div.sk-label label {\n",
       "  font-family: monospace;\n",
       "  font-weight: bold;\n",
       "  display: inline-block;\n",
       "  line-height: 1.2em;\n",
       "}\n",
       "\n",
       "#sk-container-id-1 div.sk-label-container {\n",
       "  text-align: center;\n",
       "}\n",
       "\n",
       "/* Estimator-specific */\n",
       "#sk-container-id-1 div.sk-estimator {\n",
       "  font-family: monospace;\n",
       "  border: 1px dotted var(--sklearn-color-border-box);\n",
       "  border-radius: 0.25em;\n",
       "  box-sizing: border-box;\n",
       "  margin-bottom: 0.5em;\n",
       "  /* unfitted */\n",
       "  background-color: var(--sklearn-color-unfitted-level-0);\n",
       "}\n",
       "\n",
       "#sk-container-id-1 div.sk-estimator.fitted {\n",
       "  /* fitted */\n",
       "  background-color: var(--sklearn-color-fitted-level-0);\n",
       "}\n",
       "\n",
       "/* on hover */\n",
       "#sk-container-id-1 div.sk-estimator:hover {\n",
       "  /* unfitted */\n",
       "  background-color: var(--sklearn-color-unfitted-level-2);\n",
       "}\n",
       "\n",
       "#sk-container-id-1 div.sk-estimator.fitted:hover {\n",
       "  /* fitted */\n",
       "  background-color: var(--sklearn-color-fitted-level-2);\n",
       "}\n",
       "\n",
       "/* Specification for estimator info (e.g. \"i\" and \"?\") */\n",
       "\n",
       "/* Common style for \"i\" and \"?\" */\n",
       "\n",
       ".sk-estimator-doc-link,\n",
       "a:link.sk-estimator-doc-link,\n",
       "a:visited.sk-estimator-doc-link {\n",
       "  float: right;\n",
       "  font-size: smaller;\n",
       "  line-height: 1em;\n",
       "  font-family: monospace;\n",
       "  background-color: var(--sklearn-color-background);\n",
       "  border-radius: 1em;\n",
       "  height: 1em;\n",
       "  width: 1em;\n",
       "  text-decoration: none !important;\n",
       "  margin-left: 1ex;\n",
       "  /* unfitted */\n",
       "  border: var(--sklearn-color-unfitted-level-1) 1pt solid;\n",
       "  color: var(--sklearn-color-unfitted-level-1);\n",
       "}\n",
       "\n",
       ".sk-estimator-doc-link.fitted,\n",
       "a:link.sk-estimator-doc-link.fitted,\n",
       "a:visited.sk-estimator-doc-link.fitted {\n",
       "  /* fitted */\n",
       "  border: var(--sklearn-color-fitted-level-1) 1pt solid;\n",
       "  color: var(--sklearn-color-fitted-level-1);\n",
       "}\n",
       "\n",
       "/* On hover */\n",
       "div.sk-estimator:hover .sk-estimator-doc-link:hover,\n",
       ".sk-estimator-doc-link:hover,\n",
       "div.sk-label-container:hover .sk-estimator-doc-link:hover,\n",
       ".sk-estimator-doc-link:hover {\n",
       "  /* unfitted */\n",
       "  background-color: var(--sklearn-color-unfitted-level-3);\n",
       "  color: var(--sklearn-color-background);\n",
       "  text-decoration: none;\n",
       "}\n",
       "\n",
       "div.sk-estimator.fitted:hover .sk-estimator-doc-link.fitted:hover,\n",
       ".sk-estimator-doc-link.fitted:hover,\n",
       "div.sk-label-container:hover .sk-estimator-doc-link.fitted:hover,\n",
       ".sk-estimator-doc-link.fitted:hover {\n",
       "  /* fitted */\n",
       "  background-color: var(--sklearn-color-fitted-level-3);\n",
       "  color: var(--sklearn-color-background);\n",
       "  text-decoration: none;\n",
       "}\n",
       "\n",
       "/* Span, style for the box shown on hovering the info icon */\n",
       ".sk-estimator-doc-link span {\n",
       "  display: none;\n",
       "  z-index: 9999;\n",
       "  position: relative;\n",
       "  font-weight: normal;\n",
       "  right: .2ex;\n",
       "  padding: .5ex;\n",
       "  margin: .5ex;\n",
       "  width: min-content;\n",
       "  min-width: 20ex;\n",
       "  max-width: 50ex;\n",
       "  color: var(--sklearn-color-text);\n",
       "  box-shadow: 2pt 2pt 4pt #999;\n",
       "  /* unfitted */\n",
       "  background: var(--sklearn-color-unfitted-level-0);\n",
       "  border: .5pt solid var(--sklearn-color-unfitted-level-3);\n",
       "}\n",
       "\n",
       ".sk-estimator-doc-link.fitted span {\n",
       "  /* fitted */\n",
       "  background: var(--sklearn-color-fitted-level-0);\n",
       "  border: var(--sklearn-color-fitted-level-3);\n",
       "}\n",
       "\n",
       ".sk-estimator-doc-link:hover span {\n",
       "  display: block;\n",
       "}\n",
       "\n",
       "/* \"?\"-specific style due to the `<a>` HTML tag */\n",
       "\n",
       "#sk-container-id-1 a.estimator_doc_link {\n",
       "  float: right;\n",
       "  font-size: 1rem;\n",
       "  line-height: 1em;\n",
       "  font-family: monospace;\n",
       "  background-color: var(--sklearn-color-background);\n",
       "  border-radius: 1rem;\n",
       "  height: 1rem;\n",
       "  width: 1rem;\n",
       "  text-decoration: none;\n",
       "  /* unfitted */\n",
       "  color: var(--sklearn-color-unfitted-level-1);\n",
       "  border: var(--sklearn-color-unfitted-level-1) 1pt solid;\n",
       "}\n",
       "\n",
       "#sk-container-id-1 a.estimator_doc_link.fitted {\n",
       "  /* fitted */\n",
       "  border: var(--sklearn-color-fitted-level-1) 1pt solid;\n",
       "  color: var(--sklearn-color-fitted-level-1);\n",
       "}\n",
       "\n",
       "/* On hover */\n",
       "#sk-container-id-1 a.estimator_doc_link:hover {\n",
       "  /* unfitted */\n",
       "  background-color: var(--sklearn-color-unfitted-level-3);\n",
       "  color: var(--sklearn-color-background);\n",
       "  text-decoration: none;\n",
       "}\n",
       "\n",
       "#sk-container-id-1 a.estimator_doc_link.fitted:hover {\n",
       "  /* fitted */\n",
       "  background-color: var(--sklearn-color-fitted-level-3);\n",
       "}\n",
       "</style><div id=\"sk-container-id-1\" class=\"sk-top-container\"><div class=\"sk-text-repr-fallback\"><pre>LinearRegression()</pre><b>In a Jupyter environment, please rerun this cell to show the HTML representation or trust the notebook. <br />On GitHub, the HTML representation is unable to render, please try loading this page with nbviewer.org.</b></div><div class=\"sk-container\" hidden><div class=\"sk-item\"><div class=\"sk-estimator fitted sk-toggleable\"><input class=\"sk-toggleable__control sk-hidden--visually\" id=\"sk-estimator-id-1\" type=\"checkbox\" checked><label for=\"sk-estimator-id-1\" class=\"sk-toggleable__label fitted sk-toggleable__label-arrow fitted\">&nbsp;&nbsp;LinearRegression<a class=\"sk-estimator-doc-link fitted\" rel=\"noreferrer\" target=\"_blank\" href=\"https://scikit-learn.org/1.5/modules/generated/sklearn.linear_model.LinearRegression.html\">?<span>Documentation for LinearRegression</span></a><span class=\"sk-estimator-doc-link fitted\">i<span>Fitted</span></span></label><div class=\"sk-toggleable__content fitted\"><pre>LinearRegression()</pre></div> </div></div></div></div>"
      ],
      "text/plain": [
       "LinearRegression()"
      ]
     },
     "execution_count": 66,
     "metadata": {},
     "output_type": "execute_result"
    }
   ],
   "source": [
    "model.fit(X,Y)"
   ]
  },
  {
   "cell_type": "code",
   "execution_count": 68,
   "id": "b1bff5a2-c7c2-445d-94ac-da97fa26d693",
   "metadata": {},
   "outputs": [
    {
     "data": {
      "text/plain": [
       "array([[ 1.50700104e-04, -4.55960608e+02,  4.84698011e+01,\n",
       "        -1.77826410e+00, -3.64181408e-01,  4.52148855e-01,\n",
       "         1.45705125e+02, -1.45705125e+02,  3.72185752e-03,\n",
       "         6.29721936e+01,  1.94734016e+00, -1.45725905e+03,\n",
       "        -2.32545857e+02,  5.17435108e+02, -1.94482724e+03]])"
      ]
     },
     "execution_count": 68,
     "metadata": {},
     "output_type": "execute_result"
    }
   ],
   "source": [
    "model.coef_# slope(b)"
   ]
  },
  {
   "cell_type": "code",
   "execution_count": 69,
   "id": "1b92de67-ee84-4308-ae8e-5266ad177851",
   "metadata": {},
   "outputs": [
    {
     "data": {
      "text/plain": [
       "array([-282790.81661965])"
      ]
     },
     "execution_count": 69,
     "metadata": {},
     "output_type": "execute_result"
    }
   ],
   "source": [
    "model.intercept_ # intercept(b)"
   ]
  },
  {
   "cell_type": "code",
   "execution_count": 70,
   "id": "62a3d362-45b6-4e84-b17b-8b9974a4811a",
   "metadata": {},
   "outputs": [
    {
     "data": {
      "text/html": [
       "<div>\n",
       "<style scoped>\n",
       "    .dataframe tbody tr th:only-of-type {\n",
       "        vertical-align: middle;\n",
       "    }\n",
       "\n",
       "    .dataframe tbody tr th {\n",
       "        vertical-align: top;\n",
       "    }\n",
       "\n",
       "    .dataframe thead th {\n",
       "        text-align: right;\n",
       "    }\n",
       "</style>\n",
       "<table border=\"1\" class=\"dataframe\">\n",
       "  <thead>\n",
       "    <tr style=\"text-align: right;\">\n",
       "      <th></th>\n",
       "      <th>Id</th>\n",
       "      <th>Maker</th>\n",
       "      <th>model</th>\n",
       "      <th>Location</th>\n",
       "      <th>Distance</th>\n",
       "      <th>Owner Type</th>\n",
       "      <th>manufacture_year</th>\n",
       "      <th>Age of car</th>\n",
       "      <th>engine_displacement</th>\n",
       "      <th>engine_power</th>\n",
       "      <th>Vroom Audit Rating</th>\n",
       "      <th>transmission</th>\n",
       "      <th>door_count</th>\n",
       "      <th>seat_count</th>\n",
       "      <th>fuel_type</th>\n",
       "    </tr>\n",
       "  </thead>\n",
       "  <tbody>\n",
       "    <tr>\n",
       "      <th>7597</th>\n",
       "      <td>32598</td>\n",
       "      <td>1</td>\n",
       "      <td>19</td>\n",
       "      <td>10</td>\n",
       "      <td>17013</td>\n",
       "      <td>3</td>\n",
       "      <td>2008</td>\n",
       "      <td>11</td>\n",
       "      <td>2993</td>\n",
       "      <td>149</td>\n",
       "      <td>4</td>\n",
       "      <td>0</td>\n",
       "      <td>3</td>\n",
       "      <td>4</td>\n",
       "      <td>0</td>\n",
       "    </tr>\n",
       "    <tr>\n",
       "      <th>1206</th>\n",
       "      <td>26207</td>\n",
       "      <td>6</td>\n",
       "      <td>8</td>\n",
       "      <td>0</td>\n",
       "      <td>8118</td>\n",
       "      <td>3</td>\n",
       "      <td>2008</td>\n",
       "      <td>11</td>\n",
       "      <td>2000</td>\n",
       "      <td>91</td>\n",
       "      <td>5</td>\n",
       "      <td>0</td>\n",
       "      <td>3</td>\n",
       "      <td>4</td>\n",
       "      <td>1</td>\n",
       "    </tr>\n",
       "    <tr>\n",
       "      <th>23458</th>\n",
       "      <td>48459</td>\n",
       "      <td>7</td>\n",
       "      <td>21</td>\n",
       "      <td>9</td>\n",
       "      <td>4086</td>\n",
       "      <td>0</td>\n",
       "      <td>2007</td>\n",
       "      <td>12</td>\n",
       "      <td>1364</td>\n",
       "      <td>35</td>\n",
       "      <td>8</td>\n",
       "      <td>0</td>\n",
       "      <td>4</td>\n",
       "      <td>4</td>\n",
       "      <td>0</td>\n",
       "    </tr>\n",
       "    <tr>\n",
       "      <th>16311</th>\n",
       "      <td>41312</td>\n",
       "      <td>7</td>\n",
       "      <td>21</td>\n",
       "      <td>6</td>\n",
       "      <td>15824</td>\n",
       "      <td>3</td>\n",
       "      <td>2004</td>\n",
       "      <td>15</td>\n",
       "      <td>1364</td>\n",
       "      <td>25</td>\n",
       "      <td>7</td>\n",
       "      <td>1</td>\n",
       "      <td>4</td>\n",
       "      <td>4</td>\n",
       "      <td>0</td>\n",
       "    </tr>\n",
       "    <tr>\n",
       "      <th>28413</th>\n",
       "      <td>53414</td>\n",
       "      <td>1</td>\n",
       "      <td>19</td>\n",
       "      <td>10</td>\n",
       "      <td>14201</td>\n",
       "      <td>1</td>\n",
       "      <td>2012</td>\n",
       "      <td>7</td>\n",
       "      <td>1995</td>\n",
       "      <td>100</td>\n",
       "      <td>5</td>\n",
       "      <td>1</td>\n",
       "      <td>3</td>\n",
       "      <td>4</td>\n",
       "      <td>0</td>\n",
       "    </tr>\n",
       "    <tr>\n",
       "      <th>...</th>\n",
       "      <td>...</td>\n",
       "      <td>...</td>\n",
       "      <td>...</td>\n",
       "      <td>...</td>\n",
       "      <td>...</td>\n",
       "      <td>...</td>\n",
       "      <td>...</td>\n",
       "      <td>...</td>\n",
       "      <td>...</td>\n",
       "      <td>...</td>\n",
       "      <td>...</td>\n",
       "      <td>...</td>\n",
       "      <td>...</td>\n",
       "      <td>...</td>\n",
       "      <td>...</td>\n",
       "    </tr>\n",
       "    <tr>\n",
       "      <th>13111</th>\n",
       "      <td>38112</td>\n",
       "      <td>7</td>\n",
       "      <td>1</td>\n",
       "      <td>10</td>\n",
       "      <td>13582</td>\n",
       "      <td>1</td>\n",
       "      <td>2003</td>\n",
       "      <td>16</td>\n",
       "      <td>1794</td>\n",
       "      <td>63</td>\n",
       "      <td>7</td>\n",
       "      <td>1</td>\n",
       "      <td>3</td>\n",
       "      <td>4</td>\n",
       "      <td>1</td>\n",
       "    </tr>\n",
       "    <tr>\n",
       "      <th>10438</th>\n",
       "      <td>35439</td>\n",
       "      <td>5</td>\n",
       "      <td>7</td>\n",
       "      <td>9</td>\n",
       "      <td>16371</td>\n",
       "      <td>0</td>\n",
       "      <td>1998</td>\n",
       "      <td>21</td>\n",
       "      <td>998</td>\n",
       "      <td>14</td>\n",
       "      <td>6</td>\n",
       "      <td>1</td>\n",
       "      <td>1</td>\n",
       "      <td>4</td>\n",
       "      <td>1</td>\n",
       "    </tr>\n",
       "    <tr>\n",
       "      <th>6667</th>\n",
       "      <td>31668</td>\n",
       "      <td>6</td>\n",
       "      <td>22</td>\n",
       "      <td>5</td>\n",
       "      <td>10</td>\n",
       "      <td>1</td>\n",
       "      <td>2015</td>\n",
       "      <td>4</td>\n",
       "      <td>1198</td>\n",
       "      <td>49</td>\n",
       "      <td>6</td>\n",
       "      <td>1</td>\n",
       "      <td>3</td>\n",
       "      <td>4</td>\n",
       "      <td>1</td>\n",
       "    </tr>\n",
       "    <tr>\n",
       "      <th>46155</th>\n",
       "      <td>71156</td>\n",
       "      <td>5</td>\n",
       "      <td>13</td>\n",
       "      <td>0</td>\n",
       "      <td>3788</td>\n",
       "      <td>1</td>\n",
       "      <td>2014</td>\n",
       "      <td>5</td>\n",
       "      <td>1197</td>\n",
       "      <td>53</td>\n",
       "      <td>6</td>\n",
       "      <td>1</td>\n",
       "      <td>3</td>\n",
       "      <td>4</td>\n",
       "      <td>1</td>\n",
       "    </tr>\n",
       "    <tr>\n",
       "      <th>42316</th>\n",
       "      <td>67317</td>\n",
       "      <td>1</td>\n",
       "      <td>19</td>\n",
       "      <td>3</td>\n",
       "      <td>14474</td>\n",
       "      <td>2</td>\n",
       "      <td>2004</td>\n",
       "      <td>15</td>\n",
       "      <td>2993</td>\n",
       "      <td>112</td>\n",
       "      <td>4</td>\n",
       "      <td>1</td>\n",
       "      <td>3</td>\n",
       "      <td>4</td>\n",
       "      <td>0</td>\n",
       "    </tr>\n",
       "  </tbody>\n",
       "</table>\n",
       "<p>13379 rows × 15 columns</p>\n",
       "</div>"
      ],
      "text/plain": [
       "          Id  Maker  model  Location  Distance   Owner Type  manufacture_year  \\\n",
       "7597   32598      1     19        10      17013           3              2008   \n",
       "1206   26207      6      8         0       8118           3              2008   \n",
       "23458  48459      7     21         9       4086           0              2007   \n",
       "16311  41312      7     21         6      15824           3              2004   \n",
       "28413  53414      1     19        10      14201           1              2012   \n",
       "...      ...    ...    ...       ...        ...         ...               ...   \n",
       "13111  38112      7      1        10      13582           1              2003   \n",
       "10438  35439      5      7         9      16371           0              1998   \n",
       "6667   31668      6     22         5         10           1              2015   \n",
       "46155  71156      5     13         0       3788           1              2014   \n",
       "42316  67317      1     19         3      14474           2              2004   \n",
       "\n",
       "       Age of car  engine_displacement  engine_power  Vroom Audit Rating  \\\n",
       "7597           11                 2993           149                   4   \n",
       "1206           11                 2000            91                   5   \n",
       "23458          12                 1364            35                   8   \n",
       "16311          15                 1364            25                   7   \n",
       "28413           7                 1995           100                   5   \n",
       "...           ...                  ...           ...                 ...   \n",
       "13111          16                 1794            63                   7   \n",
       "10438          21                  998            14                   6   \n",
       "6667            4                 1198            49                   6   \n",
       "46155           5                 1197            53                   6   \n",
       "42316          15                 2993           112                   4   \n",
       "\n",
       "       transmission  door_count  seat_count  fuel_type  \n",
       "7597              0           3           4          0  \n",
       "1206              0           3           4          1  \n",
       "23458             0           4           4          0  \n",
       "16311             1           4           4          0  \n",
       "28413             1           3           4          0  \n",
       "...             ...         ...         ...        ...  \n",
       "13111             1           3           4          1  \n",
       "10438             1           1           4          1  \n",
       "6667              1           3           4          1  \n",
       "46155             1           3           4          1  \n",
       "42316             1           3           4          0  \n",
       "\n",
       "[13379 rows x 15 columns]"
      ]
     },
     "execution_count": 70,
     "metadata": {},
     "output_type": "execute_result"
    }
   ],
   "source": [
    "X_test"
   ]
  },
  {
   "cell_type": "code",
   "execution_count": 71,
   "id": "cf277330-c5b0-4516-8d5d-f9b86b4320f2",
   "metadata": {},
   "outputs": [],
   "source": [
    "y_predicted=pd.DataFrame(model.predict(X_test))"
   ]
  },
  {
   "cell_type": "code",
   "execution_count": 72,
   "id": "d6a19eca-d407-4a68-8d64-5a40beeac854",
   "metadata": {},
   "outputs": [
    {
     "data": {
      "text/html": [
       "<div>\n",
       "<style scoped>\n",
       "    .dataframe tbody tr th:only-of-type {\n",
       "        vertical-align: middle;\n",
       "    }\n",
       "\n",
       "    .dataframe tbody tr th {\n",
       "        vertical-align: top;\n",
       "    }\n",
       "\n",
       "    .dataframe thead th {\n",
       "        text-align: right;\n",
       "    }\n",
       "</style>\n",
       "<table border=\"1\" class=\"dataframe\">\n",
       "  <thead>\n",
       "    <tr style=\"text-align: right;\">\n",
       "      <th></th>\n",
       "      <th>0</th>\n",
       "    </tr>\n",
       "  </thead>\n",
       "  <tbody>\n",
       "    <tr>\n",
       "      <th>0</th>\n",
       "      <td>13213.840696</td>\n",
       "    </tr>\n",
       "    <tr>\n",
       "      <th>1</th>\n",
       "      <td>8058.120046</td>\n",
       "    </tr>\n",
       "    <tr>\n",
       "      <th>2</th>\n",
       "      <td>7584.542050</td>\n",
       "    </tr>\n",
       "    <tr>\n",
       "      <th>3</th>\n",
       "      <td>352.235796</td>\n",
       "    </tr>\n",
       "    <tr>\n",
       "      <th>4</th>\n",
       "      <td>10861.128884</td>\n",
       "    </tr>\n",
       "    <tr>\n",
       "      <th>...</th>\n",
       "      <td>...</td>\n",
       "    </tr>\n",
       "    <tr>\n",
       "      <th>13374</th>\n",
       "      <td>581.687020</td>\n",
       "    </tr>\n",
       "    <tr>\n",
       "      <th>13375</th>\n",
       "      <td>-3312.858574</td>\n",
       "    </tr>\n",
       "    <tr>\n",
       "      <th>13376</th>\n",
       "      <td>9617.250455</td>\n",
       "    </tr>\n",
       "    <tr>\n",
       "      <th>13377</th>\n",
       "      <td>8236.422463</td>\n",
       "    </tr>\n",
       "    <tr>\n",
       "      <th>13378</th>\n",
       "      <td>9202.853934</td>\n",
       "    </tr>\n",
       "  </tbody>\n",
       "</table>\n",
       "<p>13379 rows × 1 columns</p>\n",
       "</div>"
      ],
      "text/plain": [
       "                  0\n",
       "0      13213.840696\n",
       "1       8058.120046\n",
       "2       7584.542050\n",
       "3        352.235796\n",
       "4      10861.128884\n",
       "...             ...\n",
       "13374    581.687020\n",
       "13375  -3312.858574\n",
       "13376   9617.250455\n",
       "13377   8236.422463\n",
       "13378   9202.853934\n",
       "\n",
       "[13379 rows x 1 columns]"
      ]
     },
     "execution_count": 72,
     "metadata": {},
     "output_type": "execute_result"
    }
   ],
   "source": [
    "y_predicted"
   ]
  },
  {
   "cell_type": "code",
   "execution_count": 73,
   "id": "dc7a6829-98c4-4a3f-8861-673d0ef530a5",
   "metadata": {},
   "outputs": [
    {
     "data": {
      "text/plain": [
       "1.0"
      ]
     },
     "execution_count": 73,
     "metadata": {},
     "output_type": "execute_result"
    }
   ],
   "source": [
    "model.score(X_test,y_predicted)"
   ]
  },
  {
   "cell_type": "code",
   "execution_count": 112,
   "id": "a877d9ee-4896-4d9c-9b85-dc4ea0fda2ae",
   "metadata": {},
   "outputs": [
    {
     "data": {
      "text/plain": [
       "np.float64(4815712.8510390995)"
      ]
     },
     "execution_count": 112,
     "metadata": {},
     "output_type": "execute_result"
    }
   ],
   "source": [
    "from sklearn.metrics import mean_squared_error\n",
    "mean_squared_error(Y,y_predicted)"
   ]
  },
  {
   "cell_type": "code",
   "execution_count": 113,
   "id": "d8b43bec-ab5d-4630-9fa1-9871fa361003",
   "metadata": {},
   "outputs": [
    {
     "data": {
      "text/plain": [
       "np.float64(1646.2965651481545)"
      ]
     },
     "execution_count": 113,
     "metadata": {},
     "output_type": "execute_result"
    }
   ],
   "source": [
    "from sklearn.metrics import mean_absolute_error\n",
    "mean_absolute_error(Y,y_predicted)"
   ]
  },
  {
   "cell_type": "code",
   "execution_count": null,
   "id": "78352dec-0096-4635-a53d-9a24a74cb5aa",
   "metadata": {},
   "outputs": [],
   "source": []
  }
 ],
 "metadata": {
  "kernelspec": {
   "display_name": "Python 3 (ipykernel)",
   "language": "python",
   "name": "python3"
  },
  "language_info": {
   "codemirror_mode": {
    "name": "ipython",
    "version": 3
   },
   "file_extension": ".py",
   "mimetype": "text/x-python",
   "name": "python",
   "nbconvert_exporter": "python",
   "pygments_lexer": "ipython3",
   "version": "3.12.4"
  }
 },
 "nbformat": 4,
 "nbformat_minor": 5
}
